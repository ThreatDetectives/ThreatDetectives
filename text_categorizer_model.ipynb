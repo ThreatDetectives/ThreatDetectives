{
 "cells": [
  {
   "cell_type": "code",
   "execution_count": 16,
   "metadata": {},
   "outputs": [],
   "source": [
    "import nltk\n",
    "import numpy as np\n",
    "import pandas as pd\n",
    "import matplotlib.pyplot as plt\n",
    "from sklearn.feature_extraction.text import CountVectorizer\n",
    "from sklearn.model_selection import train_test_split\n",
    "from sklearn.feature_extraction.text import CountVectorizer\n",
    "from sklearn.linear_model import LogisticRegression"
   ]
  },
  {
   "cell_type": "markdown",
   "metadata": {},
   "source": [
    "### In the `read_csv` function, we have passed a parameter for *encoding*, because our data set contains non-english words that's not supported by the default pandas `read_csv` function. "
   ]
  },
  {
   "cell_type": "code",
   "execution_count": 17,
   "metadata": {},
   "outputs": [
    {
     "output_type": "execute_result",
     "data": {
      "text/plain": "   Unnamed: 0  count  hate_speech  offensive_language  neither  class  \\\n0           0      3            0                   0        3      2   \n1           1      3            0                   3        0      1   \n2           2      3            0                   3        0      1   \n3           3      3            0                   2        1      1   \n4           4      6            0                   6        0      1   \n\n                                               tweet  \n0  !!! RT @mayasolovely: As a woman you shouldn't...  \n1  !!!!! RT @mleew17: boy dats cold...tyga dwn ba...  \n2  !!!!!!! RT @UrKindOfBrand Dawg!!!! RT @80sbaby...  \n3  !!!!!!!!! RT @C_G_Anderson: @viva_based she lo...  \n4  !!!!!!!!!!!!! RT @ShenikaRoberts: The shit you...  ",
      "text/html": "<div>\n<style scoped>\n    .dataframe tbody tr th:only-of-type {\n        vertical-align: middle;\n    }\n\n    .dataframe tbody tr th {\n        vertical-align: top;\n    }\n\n    .dataframe thead th {\n        text-align: right;\n    }\n</style>\n<table border=\"1\" class=\"dataframe\">\n  <thead>\n    <tr style=\"text-align: right;\">\n      <th></th>\n      <th>Unnamed: 0</th>\n      <th>count</th>\n      <th>hate_speech</th>\n      <th>offensive_language</th>\n      <th>neither</th>\n      <th>class</th>\n      <th>tweet</th>\n    </tr>\n  </thead>\n  <tbody>\n    <tr>\n      <th>0</th>\n      <td>0</td>\n      <td>3</td>\n      <td>0</td>\n      <td>0</td>\n      <td>3</td>\n      <td>2</td>\n      <td>!!! RT @mayasolovely: As a woman you shouldn't...</td>\n    </tr>\n    <tr>\n      <th>1</th>\n      <td>1</td>\n      <td>3</td>\n      <td>0</td>\n      <td>3</td>\n      <td>0</td>\n      <td>1</td>\n      <td>!!!!! RT @mleew17: boy dats cold...tyga dwn ba...</td>\n    </tr>\n    <tr>\n      <th>2</th>\n      <td>2</td>\n      <td>3</td>\n      <td>0</td>\n      <td>3</td>\n      <td>0</td>\n      <td>1</td>\n      <td>!!!!!!! RT @UrKindOfBrand Dawg!!!! RT @80sbaby...</td>\n    </tr>\n    <tr>\n      <th>3</th>\n      <td>3</td>\n      <td>3</td>\n      <td>0</td>\n      <td>2</td>\n      <td>1</td>\n      <td>1</td>\n      <td>!!!!!!!!! RT @C_G_Anderson: @viva_based she lo...</td>\n    </tr>\n    <tr>\n      <th>4</th>\n      <td>4</td>\n      <td>6</td>\n      <td>0</td>\n      <td>6</td>\n      <td>0</td>\n      <td>1</td>\n      <td>!!!!!!!!!!!!! RT @ShenikaRoberts: The shit you...</td>\n    </tr>\n  </tbody>\n</table>\n</div>"
     },
     "metadata": {},
     "execution_count": 17
    }
   ],
   "source": [
    "dataset = pd.read_csv('./labeled_data.csv', encoding='ISO-8859-1')\n",
    "dataset.head()\n"
   ]
  },
  {
   "cell_type": "code",
   "execution_count": 18,
   "metadata": {},
   "outputs": [
    {
     "output_type": "stream",
     "name": "stdout",
     "text": "<class 'pandas.core.frame.DataFrame'>\nRangeIndex: 24783 entries, 0 to 24782\nData columns (total 7 columns):\n #   Column              Non-Null Count  Dtype \n---  ------              --------------  ----- \n 0   Unnamed: 0          24783 non-null  int64 \n 1   count               24783 non-null  int64 \n 2   hate_speech         24783 non-null  int64 \n 3   offensive_language  24783 non-null  int64 \n 4   neither             24783 non-null  int64 \n 5   class               24783 non-null  int64 \n 6   tweet               24783 non-null  object\ndtypes: int64(6), object(1)\nmemory usage: 1.3+ MB\n"
    }
   ],
   "source": [
    "dataset.info()"
   ]
  },
  {
   "cell_type": "code",
   "execution_count": 19,
   "metadata": {},
   "outputs": [
    {
     "output_type": "execute_result",
     "data": {
      "text/plain": "                      count          mean          std  min     25%      50%  \\\nUnnamed: 0          24783.0  12681.192027  7299.553863  0.0  6372.5  12703.0   \ncount               24783.0      3.243473     0.883060  3.0     3.0      3.0   \nhate_speech         24783.0      0.280515     0.631851  0.0     0.0      0.0   \noffensive_language  24783.0      2.413711     1.399459  0.0     2.0      3.0   \nneither             24783.0      0.549247     1.113299  0.0     0.0      0.0   \nclass               24783.0      1.110277     0.462089  0.0     1.0      1.0   \n\n                        75%      max  \nUnnamed: 0          18995.5  25296.0  \ncount                   3.0      9.0  \nhate_speech             0.0      7.0  \noffensive_language      3.0      9.0  \nneither                 0.0      9.0  \nclass                   1.0      2.0  ",
      "text/html": "<div>\n<style scoped>\n    .dataframe tbody tr th:only-of-type {\n        vertical-align: middle;\n    }\n\n    .dataframe tbody tr th {\n        vertical-align: top;\n    }\n\n    .dataframe thead th {\n        text-align: right;\n    }\n</style>\n<table border=\"1\" class=\"dataframe\">\n  <thead>\n    <tr style=\"text-align: right;\">\n      <th></th>\n      <th>count</th>\n      <th>mean</th>\n      <th>std</th>\n      <th>min</th>\n      <th>25%</th>\n      <th>50%</th>\n      <th>75%</th>\n      <th>max</th>\n    </tr>\n  </thead>\n  <tbody>\n    <tr>\n      <th>Unnamed: 0</th>\n      <td>24783.0</td>\n      <td>12681.192027</td>\n      <td>7299.553863</td>\n      <td>0.0</td>\n      <td>6372.5</td>\n      <td>12703.0</td>\n      <td>18995.5</td>\n      <td>25296.0</td>\n    </tr>\n    <tr>\n      <th>count</th>\n      <td>24783.0</td>\n      <td>3.243473</td>\n      <td>0.883060</td>\n      <td>3.0</td>\n      <td>3.0</td>\n      <td>3.0</td>\n      <td>3.0</td>\n      <td>9.0</td>\n    </tr>\n    <tr>\n      <th>hate_speech</th>\n      <td>24783.0</td>\n      <td>0.280515</td>\n      <td>0.631851</td>\n      <td>0.0</td>\n      <td>0.0</td>\n      <td>0.0</td>\n      <td>0.0</td>\n      <td>7.0</td>\n    </tr>\n    <tr>\n      <th>offensive_language</th>\n      <td>24783.0</td>\n      <td>2.413711</td>\n      <td>1.399459</td>\n      <td>0.0</td>\n      <td>2.0</td>\n      <td>3.0</td>\n      <td>3.0</td>\n      <td>9.0</td>\n    </tr>\n    <tr>\n      <th>neither</th>\n      <td>24783.0</td>\n      <td>0.549247</td>\n      <td>1.113299</td>\n      <td>0.0</td>\n      <td>0.0</td>\n      <td>0.0</td>\n      <td>0.0</td>\n      <td>9.0</td>\n    </tr>\n    <tr>\n      <th>class</th>\n      <td>24783.0</td>\n      <td>1.110277</td>\n      <td>0.462089</td>\n      <td>0.0</td>\n      <td>1.0</td>\n      <td>1.0</td>\n      <td>1.0</td>\n      <td>2.0</td>\n    </tr>\n  </tbody>\n</table>\n</div>"
     },
     "metadata": {},
     "execution_count": 19
    }
   ],
   "source": [
    "dataset.describe().T"
   ]
  },
  {
   "cell_type": "code",
   "execution_count": 20,
   "metadata": {},
   "outputs": [
    {
     "output_type": "execute_result",
     "data": {
      "text/plain": "   class                                              tweet\n0      2  !!! RT @mayasolovely: As a woman you shouldn't...\n1      1  !!!!! RT @mleew17: boy dats cold...tyga dwn ba...\n2      1  !!!!!!! RT @UrKindOfBrand Dawg!!!! RT @80sbaby...\n3      1  !!!!!!!!! RT @C_G_Anderson: @viva_based she lo...\n4      1  !!!!!!!!!!!!! RT @ShenikaRoberts: The shit you...",
      "text/html": "<div>\n<style scoped>\n    .dataframe tbody tr th:only-of-type {\n        vertical-align: middle;\n    }\n\n    .dataframe tbody tr th {\n        vertical-align: top;\n    }\n\n    .dataframe thead th {\n        text-align: right;\n    }\n</style>\n<table border=\"1\" class=\"dataframe\">\n  <thead>\n    <tr style=\"text-align: right;\">\n      <th></th>\n      <th>class</th>\n      <th>tweet</th>\n    </tr>\n  </thead>\n  <tbody>\n    <tr>\n      <th>0</th>\n      <td>2</td>\n      <td>!!! RT @mayasolovely: As a woman you shouldn't...</td>\n    </tr>\n    <tr>\n      <th>1</th>\n      <td>1</td>\n      <td>!!!!! RT @mleew17: boy dats cold...tyga dwn ba...</td>\n    </tr>\n    <tr>\n      <th>2</th>\n      <td>1</td>\n      <td>!!!!!!! RT @UrKindOfBrand Dawg!!!! RT @80sbaby...</td>\n    </tr>\n    <tr>\n      <th>3</th>\n      <td>1</td>\n      <td>!!!!!!!!! RT @C_G_Anderson: @viva_based she lo...</td>\n    </tr>\n    <tr>\n      <th>4</th>\n      <td>1</td>\n      <td>!!!!!!!!!!!!! RT @ShenikaRoberts: The shit you...</td>\n    </tr>\n  </tbody>\n</table>\n</div>"
     },
     "metadata": {},
     "execution_count": 20
    }
   ],
   "source": [
    "dt_transformed = dataset[['class', 'tweet']]\n",
    "dt_transformed.head()"
   ]
  },
  {
   "cell_type": "markdown",
   "metadata": {},
   "source": [
    "# Cleaning the labeled data"
   ]
  },
  {
   "cell_type": "code",
   "execution_count": 21,
   "metadata": {},
   "outputs": [
    {
     "output_type": "execute_result",
     "data": {
      "text/plain": "   class                                              tweet  \\\n0      2  !!! RT @mayasolovely: As a woman you shouldn't...   \n1      1  !!!!! RT @mleew17: boy dats cold...tyga dwn ba...   \n2      1  !!!!!!! RT @UrKindOfBrand Dawg!!!! RT @80sbaby...   \n3      1  !!!!!!!!! RT @C_G_Anderson: @viva_based she lo...   \n4      1  !!!!!!!!!!!!! RT @ShenikaRoberts: The shit you...   \n\n                                tweet_wo_RT_username  \n0  !!!   As a woman you shouldn't complain about ...  \n1  !!!!!   boy dats cold...tyga dwn bad for cuffi...  \n2  !!!!!!!   Dawg!!!!   You ever fuck a bitch and...  \n3                !!!!!!!!!    she look like a tranny  \n4  !!!!!!!!!!!!!   The shit you hear about me mig...  ",
      "text/html": "<div>\n<style scoped>\n    .dataframe tbody tr th:only-of-type {\n        vertical-align: middle;\n    }\n\n    .dataframe tbody tr th {\n        vertical-align: top;\n    }\n\n    .dataframe thead th {\n        text-align: right;\n    }\n</style>\n<table border=\"1\" class=\"dataframe\">\n  <thead>\n    <tr style=\"text-align: right;\">\n      <th></th>\n      <th>class</th>\n      <th>tweet</th>\n      <th>tweet_wo_RT_username</th>\n    </tr>\n  </thead>\n  <tbody>\n    <tr>\n      <th>0</th>\n      <td>2</td>\n      <td>!!! RT @mayasolovely: As a woman you shouldn't...</td>\n      <td>!!!   As a woman you shouldn't complain about ...</td>\n    </tr>\n    <tr>\n      <th>1</th>\n      <td>1</td>\n      <td>!!!!! RT @mleew17: boy dats cold...tyga dwn ba...</td>\n      <td>!!!!!   boy dats cold...tyga dwn bad for cuffi...</td>\n    </tr>\n    <tr>\n      <th>2</th>\n      <td>1</td>\n      <td>!!!!!!! RT @UrKindOfBrand Dawg!!!! RT @80sbaby...</td>\n      <td>!!!!!!!   Dawg!!!!   You ever fuck a bitch and...</td>\n    </tr>\n    <tr>\n      <th>3</th>\n      <td>1</td>\n      <td>!!!!!!!!! RT @C_G_Anderson: @viva_based she lo...</td>\n      <td>!!!!!!!!!    she look like a tranny</td>\n    </tr>\n    <tr>\n      <th>4</th>\n      <td>1</td>\n      <td>!!!!!!!!!!!!! RT @ShenikaRoberts: The shit you...</td>\n      <td>!!!!!!!!!!!!!   The shit you hear about me mig...</td>\n    </tr>\n  </tbody>\n</table>\n</div>"
     },
     "metadata": {},
     "execution_count": 21
    }
   ],
   "source": [
    "#remove user names by pulling all the characters inbetween \"@\" and \":\"\n",
    "\n",
    "import re\n",
    "\n",
    "def remove_RT_user(text):\n",
    "    tweet = re.sub(\"@[^\\s]+\", \"\", text)\n",
    "    hashtag = re.sub(\"#[^\\s]+\", \"\", tweet)\n",
    "    no_rt = re.sub(\"RT\", \"\", hashtag)\n",
    "    return no_rt\n",
    "\n",
    "dt_transformed['tweet_wo_RT_username'] = dt_transformed['tweet'].apply(lambda x: remove_RT_user(x))\n",
    "dt_transformed.head()"
   ]
  },
  {
   "cell_type": "code",
   "execution_count": 22,
   "metadata": {},
   "outputs": [
    {
     "output_type": "stream",
     "name": "stdout",
     "text": "!\"#$%&'()*+,-./:;<=>?@[\\]^_`{|}~\n"
    },
    {
     "output_type": "execute_result",
     "data": {
      "text/plain": "   class                                              tweet  \\\n0      2  !!! RT @mayasolovely: As a woman you shouldn't...   \n1      1  !!!!! RT @mleew17: boy dats cold...tyga dwn ba...   \n2      1  !!!!!!! RT @UrKindOfBrand Dawg!!!! RT @80sbaby...   \n3      1  !!!!!!!!! RT @C_G_Anderson: @viva_based she lo...   \n4      1  !!!!!!!!!!!!! RT @ShenikaRoberts: The shit you...   \n\n                                tweet_wo_RT_username  \\\n0  !!!   As a woman you shouldn't complain about ...   \n1  !!!!!   boy dats cold...tyga dwn bad for cuffi...   \n2  !!!!!!!   Dawg!!!!   You ever fuck a bitch and...   \n3                !!!!!!!!!    she look like a tranny   \n4  !!!!!!!!!!!!!   The shit you hear about me mig...   \n\n                          tweet_wo_RT_username_punct  \n0     As a woman you shouldnt complain about clea...  \n1     boy dats coldtyga dwn bad for cuffin dat ho...  \n2     Dawg   You ever fuck a bitch and she start ...  \n3                             she look like a tranny  \n4     The shit you hear about me might be true or...  ",
      "text/html": "<div>\n<style scoped>\n    .dataframe tbody tr th:only-of-type {\n        vertical-align: middle;\n    }\n\n    .dataframe tbody tr th {\n        vertical-align: top;\n    }\n\n    .dataframe thead th {\n        text-align: right;\n    }\n</style>\n<table border=\"1\" class=\"dataframe\">\n  <thead>\n    <tr style=\"text-align: right;\">\n      <th></th>\n      <th>class</th>\n      <th>tweet</th>\n      <th>tweet_wo_RT_username</th>\n      <th>tweet_wo_RT_username_punct</th>\n    </tr>\n  </thead>\n  <tbody>\n    <tr>\n      <th>0</th>\n      <td>2</td>\n      <td>!!! RT @mayasolovely: As a woman you shouldn't...</td>\n      <td>!!!   As a woman you shouldn't complain about ...</td>\n      <td>As a woman you shouldnt complain about clea...</td>\n    </tr>\n    <tr>\n      <th>1</th>\n      <td>1</td>\n      <td>!!!!! RT @mleew17: boy dats cold...tyga dwn ba...</td>\n      <td>!!!!!   boy dats cold...tyga dwn bad for cuffi...</td>\n      <td>boy dats coldtyga dwn bad for cuffin dat ho...</td>\n    </tr>\n    <tr>\n      <th>2</th>\n      <td>1</td>\n      <td>!!!!!!! RT @UrKindOfBrand Dawg!!!! RT @80sbaby...</td>\n      <td>!!!!!!!   Dawg!!!!   You ever fuck a bitch and...</td>\n      <td>Dawg   You ever fuck a bitch and she start ...</td>\n    </tr>\n    <tr>\n      <th>3</th>\n      <td>1</td>\n      <td>!!!!!!!!! RT @C_G_Anderson: @viva_based she lo...</td>\n      <td>!!!!!!!!!    she look like a tranny</td>\n      <td>she look like a tranny</td>\n    </tr>\n    <tr>\n      <th>4</th>\n      <td>1</td>\n      <td>!!!!!!!!!!!!! RT @ShenikaRoberts: The shit you...</td>\n      <td>!!!!!!!!!!!!!   The shit you hear about me mig...</td>\n      <td>The shit you hear about me might be true or...</td>\n    </tr>\n  </tbody>\n</table>\n</div>"
     },
     "metadata": {},
     "execution_count": 22
    }
   ],
   "source": [
    "# removing punctuation\n",
    "\n",
    "import string\n",
    "print(string.punctuation)\n",
    "\n",
    "def remove_punctuation(text):\n",
    "    no_punct=[words for words in text if words not in string.punctuation]\n",
    "    words_wo_punct=''.join(no_punct)\n",
    "    return words_wo_punct\n",
    "\n",
    "dt_transformed['tweet_wo_RT_username_punct'] = dt_transformed['tweet_wo_RT_username'].apply(lambda x: remove_punctuation(x))\n",
    "dt_transformed.head()\n"
   ]
  },
  {
   "cell_type": "code",
   "execution_count": 23,
   "metadata": {},
   "outputs": [
    {
     "output_type": "execute_result",
     "data": {
      "text/plain": "   class                                              tweet  \\\n0      2  !!! RT @mayasolovely: As a woman you shouldn't...   \n1      1  !!!!! RT @mleew17: boy dats cold...tyga dwn ba...   \n2      1  !!!!!!! RT @UrKindOfBrand Dawg!!!! RT @80sbaby...   \n3      1  !!!!!!!!! RT @C_G_Anderson: @viva_based she lo...   \n4      1  !!!!!!!!!!!!! RT @ShenikaRoberts: The shit you...   \n\n                                tweet_wo_RT_username  \\\n0  !!!   As a woman you shouldn't complain about ...   \n1  !!!!!   boy dats cold...tyga dwn bad for cuffi...   \n2  !!!!!!!   Dawg!!!!   You ever fuck a bitch and...   \n3                !!!!!!!!!    she look like a tranny   \n4  !!!!!!!!!!!!!   The shit you hear about me mig...   \n\n                          tweet_wo_RT_username_punct  \\\n0     As a woman you shouldnt complain about clea...   \n1     boy dats coldtyga dwn bad for cuffin dat ho...   \n2     Dawg   You ever fuck a bitch and she start ...   \n3                             she look like a tranny   \n4     The shit you hear about me might be true or...   \n\n                    tweet_wo_RT_username_punct_split  \n0  [, as, a, woman, you, shouldnt, complain, abou...  \n1  [, boy, dats, coldtyga, dwn, bad, for, cuffin,...  \n2  [, dawg, you, ever, fuck, a, bitch, and, she, ...  \n3                     [, she, look, like, a, tranny]  \n4  [, the, shit, you, hear, about, me, might, be,...  ",
      "text/html": "<div>\n<style scoped>\n    .dataframe tbody tr th:only-of-type {\n        vertical-align: middle;\n    }\n\n    .dataframe tbody tr th {\n        vertical-align: top;\n    }\n\n    .dataframe thead th {\n        text-align: right;\n    }\n</style>\n<table border=\"1\" class=\"dataframe\">\n  <thead>\n    <tr style=\"text-align: right;\">\n      <th></th>\n      <th>class</th>\n      <th>tweet</th>\n      <th>tweet_wo_RT_username</th>\n      <th>tweet_wo_RT_username_punct</th>\n      <th>tweet_wo_RT_username_punct_split</th>\n    </tr>\n  </thead>\n  <tbody>\n    <tr>\n      <th>0</th>\n      <td>2</td>\n      <td>!!! RT @mayasolovely: As a woman you shouldn't...</td>\n      <td>!!!   As a woman you shouldn't complain about ...</td>\n      <td>As a woman you shouldnt complain about clea...</td>\n      <td>[, as, a, woman, you, shouldnt, complain, abou...</td>\n    </tr>\n    <tr>\n      <th>1</th>\n      <td>1</td>\n      <td>!!!!! RT @mleew17: boy dats cold...tyga dwn ba...</td>\n      <td>!!!!!   boy dats cold...tyga dwn bad for cuffi...</td>\n      <td>boy dats coldtyga dwn bad for cuffin dat ho...</td>\n      <td>[, boy, dats, coldtyga, dwn, bad, for, cuffin,...</td>\n    </tr>\n    <tr>\n      <th>2</th>\n      <td>1</td>\n      <td>!!!!!!! RT @UrKindOfBrand Dawg!!!! RT @80sbaby...</td>\n      <td>!!!!!!!   Dawg!!!!   You ever fuck a bitch and...</td>\n      <td>Dawg   You ever fuck a bitch and she start ...</td>\n      <td>[, dawg, you, ever, fuck, a, bitch, and, she, ...</td>\n    </tr>\n    <tr>\n      <th>3</th>\n      <td>1</td>\n      <td>!!!!!!!!! RT @C_G_Anderson: @viva_based she lo...</td>\n      <td>!!!!!!!!!    she look like a tranny</td>\n      <td>she look like a tranny</td>\n      <td>[, she, look, like, a, tranny]</td>\n    </tr>\n    <tr>\n      <th>4</th>\n      <td>1</td>\n      <td>!!!!!!!!!!!!! RT @ShenikaRoberts: The shit you...</td>\n      <td>!!!!!!!!!!!!!   The shit you hear about me mig...</td>\n      <td>The shit you hear about me might be true or...</td>\n      <td>[, the, shit, you, hear, about, me, might, be,...</td>\n    </tr>\n  </tbody>\n</table>\n</div>"
     },
     "metadata": {},
     "execution_count": 23
    }
   ],
   "source": [
    "# Tokenization = splitting strings into words\n",
    "\n",
    "def tokenize(text):\n",
    "    split = re.split(\"\\W+\", text)\n",
    "    return split\n",
    "\n",
    "dt_transformed['tweet_wo_RT_username_punct_split'] = dt_transformed['tweet_wo_RT_username_punct'].apply(lambda x: tokenize(x.lower()))\n",
    "dt_transformed.head()"
   ]
  },
  {
   "cell_type": "code",
   "execution_count": 24,
   "metadata": {},
   "outputs": [
    {
     "output_type": "stream",
     "name": "stdout",
     "text": "['i', 'me', 'my', 'myself', 'we', 'our', 'ours', 'ourselves', 'you', \"you're\", \"you've\"]\n"
    },
    {
     "output_type": "execute_result",
     "data": {
      "text/plain": "   class                                              tweet  \\\n0      2  !!! RT @mayasolovely: As a woman you shouldn't...   \n1      1  !!!!! RT @mleew17: boy dats cold...tyga dwn ba...   \n2      1  !!!!!!! RT @UrKindOfBrand Dawg!!!! RT @80sbaby...   \n3      1  !!!!!!!!! RT @C_G_Anderson: @viva_based she lo...   \n4      1  !!!!!!!!!!!!! RT @ShenikaRoberts: The shit you...   \n\n                                tweet_wo_RT_username  \\\n0  !!!   As a woman you shouldn't complain about ...   \n1  !!!!!   boy dats cold...tyga dwn bad for cuffi...   \n2  !!!!!!!   Dawg!!!!   You ever fuck a bitch and...   \n3                !!!!!!!!!    she look like a tranny   \n4  !!!!!!!!!!!!!   The shit you hear about me mig...   \n\n                          tweet_wo_RT_username_punct  \\\n0     As a woman you shouldnt complain about clea...   \n1     boy dats coldtyga dwn bad for cuffin dat ho...   \n2     Dawg   You ever fuck a bitch and she start ...   \n3                             she look like a tranny   \n4     The shit you hear about me might be true or...   \n\n                    tweet_wo_RT_username_punct_split  \\\n0  [, as, a, woman, you, shouldnt, complain, abou...   \n1  [, boy, dats, coldtyga, dwn, bad, for, cuffin,...   \n2  [, dawg, you, ever, fuck, a, bitch, and, she, ...   \n3                     [, she, look, like, a, tranny]   \n4  [, the, shit, you, hear, about, me, might, be,...   \n\n          tweet_wo_RT_username_punct_split_stopwords  \n0  [, woman, shouldnt, complain, cleaning, house,...  \n1  [, boy, dats, coldtyga, dwn, bad, cuffin, dat,...  \n2  [, dawg, ever, fuck, bitch, start, cry, confus...  \n3                             [, look, like, tranny]  \n4  [, shit, hear, might, true, might, faker, bitc...  ",
      "text/html": "<div>\n<style scoped>\n    .dataframe tbody tr th:only-of-type {\n        vertical-align: middle;\n    }\n\n    .dataframe tbody tr th {\n        vertical-align: top;\n    }\n\n    .dataframe thead th {\n        text-align: right;\n    }\n</style>\n<table border=\"1\" class=\"dataframe\">\n  <thead>\n    <tr style=\"text-align: right;\">\n      <th></th>\n      <th>class</th>\n      <th>tweet</th>\n      <th>tweet_wo_RT_username</th>\n      <th>tweet_wo_RT_username_punct</th>\n      <th>tweet_wo_RT_username_punct_split</th>\n      <th>tweet_wo_RT_username_punct_split_stopwords</th>\n    </tr>\n  </thead>\n  <tbody>\n    <tr>\n      <th>0</th>\n      <td>2</td>\n      <td>!!! RT @mayasolovely: As a woman you shouldn't...</td>\n      <td>!!!   As a woman you shouldn't complain about ...</td>\n      <td>As a woman you shouldnt complain about clea...</td>\n      <td>[, as, a, woman, you, shouldnt, complain, abou...</td>\n      <td>[, woman, shouldnt, complain, cleaning, house,...</td>\n    </tr>\n    <tr>\n      <th>1</th>\n      <td>1</td>\n      <td>!!!!! RT @mleew17: boy dats cold...tyga dwn ba...</td>\n      <td>!!!!!   boy dats cold...tyga dwn bad for cuffi...</td>\n      <td>boy dats coldtyga dwn bad for cuffin dat ho...</td>\n      <td>[, boy, dats, coldtyga, dwn, bad, for, cuffin,...</td>\n      <td>[, boy, dats, coldtyga, dwn, bad, cuffin, dat,...</td>\n    </tr>\n    <tr>\n      <th>2</th>\n      <td>1</td>\n      <td>!!!!!!! RT @UrKindOfBrand Dawg!!!! RT @80sbaby...</td>\n      <td>!!!!!!!   Dawg!!!!   You ever fuck a bitch and...</td>\n      <td>Dawg   You ever fuck a bitch and she start ...</td>\n      <td>[, dawg, you, ever, fuck, a, bitch, and, she, ...</td>\n      <td>[, dawg, ever, fuck, bitch, start, cry, confus...</td>\n    </tr>\n    <tr>\n      <th>3</th>\n      <td>1</td>\n      <td>!!!!!!!!! RT @C_G_Anderson: @viva_based she lo...</td>\n      <td>!!!!!!!!!    she look like a tranny</td>\n      <td>she look like a tranny</td>\n      <td>[, she, look, like, a, tranny]</td>\n      <td>[, look, like, tranny]</td>\n    </tr>\n    <tr>\n      <th>4</th>\n      <td>1</td>\n      <td>!!!!!!!!!!!!! RT @ShenikaRoberts: The shit you...</td>\n      <td>!!!!!!!!!!!!!   The shit you hear about me mig...</td>\n      <td>The shit you hear about me might be true or...</td>\n      <td>[, the, shit, you, hear, about, me, might, be,...</td>\n      <td>[, shit, hear, might, true, might, faker, bitc...</td>\n    </tr>\n  </tbody>\n</table>\n</div>"
     },
     "metadata": {},
     "execution_count": 24
    }
   ],
   "source": [
    "stopword = nltk.corpus.stopwords.words('english')\n",
    "print(stopword[:11])\n",
    "\n",
    "def remove_stopwords(text):\n",
    "    text = [word for word in text if word not in stopword]\n",
    "    return text\n",
    "\n",
    "dt_transformed['tweet_wo_RT_username_punct_split_stopwords'] = dt_transformed['tweet_wo_RT_username_punct_split'].apply(lambda x: remove_stopwords(x))\n",
    "dt_transformed.head()"
   ]
  },
  {
   "cell_type": "code",
   "execution_count": 29,
   "metadata": {},
   "outputs": [
    {
     "output_type": "error",
     "ename": "KeyError",
     "evalue": "'tweets'",
     "traceback": [
      "\u001b[0;31m---------------------------------------------------------------------------\u001b[0m",
      "\u001b[0;31mKeyError\u001b[0m                                  Traceback (most recent call last)",
      "\u001b[0;32m~/codefellows/401/projects/ThreatDetectives/.venv/lib/python3.9/site-packages/pandas/core/indexes/base.py\u001b[0m in \u001b[0;36mget_loc\u001b[0;34m(self, key, method, tolerance)\u001b[0m\n\u001b[1;32m   3079\u001b[0m             \u001b[0;32mtry\u001b[0m\u001b[0;34m:\u001b[0m\u001b[0;34m\u001b[0m\u001b[0;34m\u001b[0m\u001b[0m\n\u001b[0;32m-> 3080\u001b[0;31m                 \u001b[0;32mreturn\u001b[0m \u001b[0mself\u001b[0m\u001b[0;34m.\u001b[0m\u001b[0m_engine\u001b[0m\u001b[0;34m.\u001b[0m\u001b[0mget_loc\u001b[0m\u001b[0;34m(\u001b[0m\u001b[0mcasted_key\u001b[0m\u001b[0;34m)\u001b[0m\u001b[0;34m\u001b[0m\u001b[0;34m\u001b[0m\u001b[0m\n\u001b[0m\u001b[1;32m   3081\u001b[0m             \u001b[0;32mexcept\u001b[0m \u001b[0mKeyError\u001b[0m \u001b[0;32mas\u001b[0m \u001b[0merr\u001b[0m\u001b[0;34m:\u001b[0m\u001b[0;34m\u001b[0m\u001b[0;34m\u001b[0m\u001b[0m\n",
      "\u001b[0;32mpandas/_libs/index.pyx\u001b[0m in \u001b[0;36mpandas._libs.index.IndexEngine.get_loc\u001b[0;34m()\u001b[0m\n",
      "\u001b[0;32mpandas/_libs/index.pyx\u001b[0m in \u001b[0;36mpandas._libs.index.IndexEngine.get_loc\u001b[0;34m()\u001b[0m\n",
      "\u001b[0;32mpandas/_libs/hashtable_class_helper.pxi\u001b[0m in \u001b[0;36mpandas._libs.hashtable.PyObjectHashTable.get_item\u001b[0;34m()\u001b[0m\n",
      "\u001b[0;32mpandas/_libs/hashtable_class_helper.pxi\u001b[0m in \u001b[0;36mpandas._libs.hashtable.PyObjectHashTable.get_item\u001b[0;34m()\u001b[0m\n",
      "\u001b[0;31mKeyError\u001b[0m: 'tweets'",
      "\nThe above exception was the direct cause of the following exception:\n",
      "\u001b[0;31mKeyError\u001b[0m                                  Traceback (most recent call last)",
      "\u001b[0;32m<ipython-input-29-801f54ef20dc>\u001b[0m in \u001b[0;36m<module>\u001b[0;34m\u001b[0m\n\u001b[1;32m      2\u001b[0m \u001b[0;34m\u001b[0m\u001b[0m\n\u001b[1;32m      3\u001b[0m \u001b[0mtweets\u001b[0m \u001b[0;34m=\u001b[0m \u001b[0mdt_transformed\u001b[0m\u001b[0;34m[\u001b[0m\u001b[0;34m[\u001b[0m\u001b[0;34m'tweet_wo_RT_username_punct_split_stopwords'\u001b[0m\u001b[0;34m]\u001b[0m\u001b[0;34m]\u001b[0m\u001b[0;34m\u001b[0m\u001b[0;34m\u001b[0m\u001b[0m\n\u001b[0;32m----> 4\u001b[0;31m \u001b[0mtweet_list\u001b[0m \u001b[0;34m=\u001b[0m \u001b[0;34m[\u001b[0m\u001b[0mtweet\u001b[0m \u001b[0;32mfor\u001b[0m \u001b[0mtweet\u001b[0m \u001b[0;32min\u001b[0m \u001b[0mdt_transformed\u001b[0m\u001b[0;34m[\u001b[0m\u001b[0;34m'tweets'\u001b[0m\u001b[0;34m]\u001b[0m\u001b[0;34m]\u001b[0m\u001b[0;34m\u001b[0m\u001b[0;34m\u001b[0m\u001b[0m\n\u001b[0m\u001b[1;32m      5\u001b[0m \u001b[0;34m\u001b[0m\u001b[0m\n\u001b[1;32m      6\u001b[0m \u001b[0mvectorizer\u001b[0m \u001b[0;34m=\u001b[0m \u001b[0mCountVectorizer\u001b[0m\u001b[0;34m(\u001b[0m\u001b[0;34m)\u001b[0m\u001b[0;34m\u001b[0m\u001b[0;34m\u001b[0m\u001b[0m\n",
      "\u001b[0;32m~/codefellows/401/projects/ThreatDetectives/.venv/lib/python3.9/site-packages/pandas/core/frame.py\u001b[0m in \u001b[0;36m__getitem__\u001b[0;34m(self, key)\u001b[0m\n\u001b[1;32m   3022\u001b[0m             \u001b[0;32mif\u001b[0m \u001b[0mself\u001b[0m\u001b[0;34m.\u001b[0m\u001b[0mcolumns\u001b[0m\u001b[0;34m.\u001b[0m\u001b[0mnlevels\u001b[0m \u001b[0;34m>\u001b[0m \u001b[0;36m1\u001b[0m\u001b[0;34m:\u001b[0m\u001b[0;34m\u001b[0m\u001b[0;34m\u001b[0m\u001b[0m\n\u001b[1;32m   3023\u001b[0m                 \u001b[0;32mreturn\u001b[0m \u001b[0mself\u001b[0m\u001b[0;34m.\u001b[0m\u001b[0m_getitem_multilevel\u001b[0m\u001b[0;34m(\u001b[0m\u001b[0mkey\u001b[0m\u001b[0;34m)\u001b[0m\u001b[0;34m\u001b[0m\u001b[0;34m\u001b[0m\u001b[0m\n\u001b[0;32m-> 3024\u001b[0;31m             \u001b[0mindexer\u001b[0m \u001b[0;34m=\u001b[0m \u001b[0mself\u001b[0m\u001b[0;34m.\u001b[0m\u001b[0mcolumns\u001b[0m\u001b[0;34m.\u001b[0m\u001b[0mget_loc\u001b[0m\u001b[0;34m(\u001b[0m\u001b[0mkey\u001b[0m\u001b[0;34m)\u001b[0m\u001b[0;34m\u001b[0m\u001b[0;34m\u001b[0m\u001b[0m\n\u001b[0m\u001b[1;32m   3025\u001b[0m             \u001b[0;32mif\u001b[0m \u001b[0mis_integer\u001b[0m\u001b[0;34m(\u001b[0m\u001b[0mindexer\u001b[0m\u001b[0;34m)\u001b[0m\u001b[0;34m:\u001b[0m\u001b[0;34m\u001b[0m\u001b[0;34m\u001b[0m\u001b[0m\n\u001b[1;32m   3026\u001b[0m                 \u001b[0mindexer\u001b[0m \u001b[0;34m=\u001b[0m \u001b[0;34m[\u001b[0m\u001b[0mindexer\u001b[0m\u001b[0;34m]\u001b[0m\u001b[0;34m\u001b[0m\u001b[0;34m\u001b[0m\u001b[0m\n",
      "\u001b[0;32m~/codefellows/401/projects/ThreatDetectives/.venv/lib/python3.9/site-packages/pandas/core/indexes/base.py\u001b[0m in \u001b[0;36mget_loc\u001b[0;34m(self, key, method, tolerance)\u001b[0m\n\u001b[1;32m   3080\u001b[0m                 \u001b[0;32mreturn\u001b[0m \u001b[0mself\u001b[0m\u001b[0;34m.\u001b[0m\u001b[0m_engine\u001b[0m\u001b[0;34m.\u001b[0m\u001b[0mget_loc\u001b[0m\u001b[0;34m(\u001b[0m\u001b[0mcasted_key\u001b[0m\u001b[0;34m)\u001b[0m\u001b[0;34m\u001b[0m\u001b[0;34m\u001b[0m\u001b[0m\n\u001b[1;32m   3081\u001b[0m             \u001b[0;32mexcept\u001b[0m \u001b[0mKeyError\u001b[0m \u001b[0;32mas\u001b[0m \u001b[0merr\u001b[0m\u001b[0;34m:\u001b[0m\u001b[0;34m\u001b[0m\u001b[0;34m\u001b[0m\u001b[0m\n\u001b[0;32m-> 3082\u001b[0;31m                 \u001b[0;32mraise\u001b[0m \u001b[0mKeyError\u001b[0m\u001b[0;34m(\u001b[0m\u001b[0mkey\u001b[0m\u001b[0;34m)\u001b[0m \u001b[0;32mfrom\u001b[0m \u001b[0merr\u001b[0m\u001b[0;34m\u001b[0m\u001b[0;34m\u001b[0m\u001b[0m\n\u001b[0m\u001b[1;32m   3083\u001b[0m \u001b[0;34m\u001b[0m\u001b[0m\n\u001b[1;32m   3084\u001b[0m         \u001b[0;32mif\u001b[0m \u001b[0mtolerance\u001b[0m \u001b[0;32mis\u001b[0m \u001b[0;32mnot\u001b[0m \u001b[0;32mNone\u001b[0m\u001b[0;34m:\u001b[0m\u001b[0;34m\u001b[0m\u001b[0;34m\u001b[0m\u001b[0m\n",
      "\u001b[0;31mKeyError\u001b[0m: 'tweets'"
     ]
    }
   ],
   "source": [
    "\n",
    "# Bag of Words\n",
    "\n",
    "tweets = dt_transformed[['tweet_wo_RT_username_punct_split_stopwords']]\n",
    "tweet_list = [tweet for tweet in dt_transformed['tweets']]\n",
    "\n",
    "vectorizer = CountVectorizer()\n",
    "vectorizer.fit(tweet_list[:100])\n",
    "vectorizer.vocabulary_"
   ]
  },
  {
   "cell_type": "code",
   "execution_count": 26,
   "metadata": {},
   "outputs": [
    {
     "output_type": "execute_result",
     "data": {
      "text/plain": "pandas.core.frame.DataFrame"
     },
     "metadata": {},
     "execution_count": 26
    }
   ],
   "source": [
    "tweets = dt_transformed[['tweet']]\n",
    "type(tweets)"
   ]
  },
  {
   "cell_type": "code",
   "execution_count": 27,
   "metadata": {},
   "outputs": [
    {
     "output_type": "execute_result",
     "data": {
      "text/plain": "ter',\n  'dash',\n  'niqqa',\n  'whos',\n  'actually',\n  'taking',\n  'time',\n  'walking',\n  'amp',\n  'u',\n  'still',\n  'get',\n  'killed'],\n ['',\n  'november',\n  '10th',\n  'get',\n  'early',\n  'bird',\n  'tickets',\n  'httptco7xcl4kyiuv',\n  'httptcozcnp1ljoow'],\n ['', '44', 'road', 'perfect', 'way', 'continue', 'finished', ''],\n ['', 'valerie', 'jarrett', 'control', 'reflex', 'bitch', 'slap'],\n ['',\n  'little',\n  'brother',\n  'hate',\n  'admit',\n  'knows',\n  'hes',\n  'still',\n  'lil',\n  'bitch',\n  'though',\n  'fuck'],\n ['',\n  'yall',\n  'bitches',\n  'gon',\n  'breast',\n  'feed',\n  'wit',\n  'nipple',\n  'rings',\n  ''],\n ['',\n  'slapping',\n  'hoe',\n  'tuh',\n  'solve',\n  'something',\n  'ima',\n  'leave',\n  'alonei',\n  'never',\n  'usually',\n  'listen'],\n ['',\n  '218',\n  'covington',\n  'reads',\n  'responses',\n  'amp',\n  'mocks',\n  'fbi',\n  'andy',\n  'real',\n  'politics',\n  'liv',\n  'awakening',\n  'gretchen',\n  'httptcot9jyhancpr'],\n ['', 'bitch', ''],\n ['', 'still', 'bitch', 'got', 'one', 'wrong', 'women', 'fans', 'livid', ''],\n ['', 'u', 'talkin', 'nig', 'smashed', 'da', 'homies'],\n ['',\n  'youre',\n  'hoe',\n  'stop',\n  'focusing',\n  'sucking',\n  'dick',\n  'focus',\n  'getting',\n  'rich'],\n ['', 'sharing', 'hogging', 'like', 'fuckin', 'gasbag', 'son', 'bitch'],\n ['',\n  'using',\n  'actual',\n  'woman',\n  'genetic',\n  'engineering',\n  'lab',\n  'natural',\n  'clones',\n  'something',\n  ''],\n ['', 'focus', 'knocked', 'last', 'year', 'hatred', 'umteen', 'years', 'lol'],\n ['',\n  'dcyoungfly',\n  'dirtymoney24',\n  'damn',\n  'bitch',\n  'bab',\n  'thats',\n  'big',\n  'httpstcomgr10pz8ij'],\n ['',\n  '21',\n  'fantastic',\n  'ready',\n  'tomorrows',\n  'sweep',\n  'disposed',\n  'os',\n  '4ever',\n  'except',\n  'month'],\n ['',\n  'milwaukee',\n  'let',\n  'yost',\n  'gonow',\n  'wished',\n  'hadnt',\n  'cause',\n  'suckhow',\n  'nowhes',\n  'guy',\n  'win',\n  'lose',\n  'yankees',\n  'fire',\n  'girardi',\n  ''],\n ['', 'charlie', 'lapdance'],\n ['', 'fairy', 'queen', 'nomggt', 'fucked', 'panties'],\n ['', 'everybody', 'follow', 'nicca'],\n ['', 'niccas', ''],\n ['', 'niccas'],\n ['', 'exit', '47', 'niccas', ''],\n ['', 'gt', 'niggahs', 'telling', 'hoes', 'im', 'talking', 'cant', 'get', ''],\n ['', 'trash'],\n ['',\n  'alls',\n  'niggers',\n  'wanna',\n  'fuck',\n  'tweet',\n  'drink',\n  'pineapple',\n  'soda',\n  'day'],\n ['', 'asian', 'black', 'hawaiian', 'gay', 'retarded', 'drunk'],\n ['', 'full', 'white', 'trash'],\n ['', 'pussy', 'naz', 'ay', 'tried', 'tell', 'naz'],\n ['',\n  '9',\n  'cases',\n  'west',\n  'nile',\n  'virus',\n  'infections',\n  'reported',\n  'orange',\n  'county',\n  'year',\n  '105',\n  'dead',\n  'birds',\n  'found',\n  'carrying',\n  'virus'],\n ['', 'love', 'forever', 'ling', 'ling', 'httptcokecfnjyrwe'],\n ['', '1030', 'nicca'],\n ['', 'david', 'charlie', 'brown', ''],\n ['',\n  'son',\n  'bitch',\n  'moment',\n  'finally',\n  'get',\n  'bed',\n  'bladder',\n  'decides',\n  'time',\n  'piss'],\n ['',\n  'son',\n  'bitch',\n  'moment',\n  'turn',\n  'radio',\n  'favorite',\n  'song',\n  'end',\n  'song'],\n ['',\n  'son',\n  'bitch',\n  'moment',\n  'walking',\n  'house',\n  'dark',\n  'stub',\n  'little',\n  'toe',\n  'wall'],\n ['',\n  'leave',\n  'car',\n  'windows',\n  'rains',\n  'car',\n  'looks',\n  'like',\n  'hurricane',\n  'katrina',\n  'ran',\n  'bitch'],\n ['', 'people', 'never', 'happy', 'bitchnmoan', '100', 'time'],\n ['', 'play', 'deez', 'niggas', 'n', 'bitches', 'dat', 'snakes'],\n ['',\n  'give',\n  'da',\n  'dick',\n  'u',\n  'gotta',\n  'half',\n  'stroke',\n  'da',\n  'pussy',\n  'bc',\n  'u',\n  'dump',\n  'dick',\n  'dat',\n  'bitch',\n  'gon',\n  'become',\n  'extremely',\n  'anoyin'],\n ['', 'lil', 'bitch', 'follow', 'httptcosd8uht4dny'],\n ['', 'fuck', 'dem', 'hoes', 'better', 'love', 'dem', 'hoes'],\n ['', 'referred', 'zimmerman', 'creepy', 'ass', 'cracker', 'racist', 'thug'],\n ['',\n  'pontiac',\n  'sprinkler',\n  'nigga',\n  'nigga',\n  'nigga',\n  'nigga',\n  'spic',\n  'spic',\n  'spic',\n  'spic',\n  'nigga',\n  'nigga',\n  'nigga',\n  'nigga'],\n ['', 'made', '3', 'bitches', ''],\n ['', 'fucc', 'nicca', 'httptco45fv79cv0z'],\n ['',\n  'get',\n  'job',\n  'naacp',\n  'ag',\n  'hear',\n  'like',\n  'diversity',\n  'tolerance',\n  'long',\n  'aint',\n  'cracker',\n  ''],\n ['', 'full', 'white', 'trash'],\n ['',\n  'bo',\n  'violated',\n  'usa',\n  'sovereignty',\n  'wopen',\n  'borderjihadiscriminaldiseasedhaitianssamericans',\n  ''],\n ['', 'full', 'white', 'trash'],\n ['', 'peanut', 'butter', 'oreos', 'lt3'],\n ['', 'hoes', 'wasted', 'time'],\n ['', 'make', 'bitch', 'cheat', 'four', 'points', 'scale', '1', '10'],\n ['',\n  'hunter',\n  'pence',\n  'annoying',\n  'red',\n  'sox',\n  'player',\n  'shave',\n  'fool',\n  'take',\n  'vyvanse',\n  '2015'],\n [''],\n ['', 'dont', 'want', 'arod', 'back'],\n ['', 'let', 'play', 'entire', 'inning', 'thats', 'fitting'],\n ['', 'robertson', 'guy', 'fantastic', 'sec', 'pitcher'],\n ['',\n  '3',\n  '0',\n  'mccarthy',\n  'outduels',\n  'keuchel',\n  'series',\n  'finale',\n  'httptcohijjauktjn'],\n ['', '60', 'nine', 'straight', 'hits', 'price', 'night'],\n ['',\n  'damn',\n  'directtv',\n  'blackout',\n  'yankee',\n  'game',\n  'freaking',\n  'walk',\n  'youre',\n  'killing',\n  'satellite',\n  'douche'],\n ['', 'damn', 'well', 'joe', 'move', 'bullpen', 'really', 'helped'],\n ['',\n  'aint',\n  'complaining',\n  'royals',\n  'win',\n  'lose',\n  'game7',\n  'showed',\n  'heart',\n  'al',\n  'ride',\n  'die',\n  'flex',\n  'zone',\n  'earned'],\n ['',\n  'went',\n  'golds',\n  'cruz',\n  '2010',\n  'sound',\n  'upper',\n  'lower',\n  'body',\n  'strength',\n  'hmm',\n  '40',\n  'hr',\n  'hitter',\n  'wont',\n  'say',\n  'word'],\n ['',\n  'royals',\n  'fire',\n  'sale',\n  'want',\n  'whole',\n  'team',\n  'leave',\n  'gardner',\n  'tanaka',\n  'rest',\n  'please',\n  'go',\n  'along',\n  'joe',\n  'cash'],\n ['', 'nice', 'bounce', 'back', 'kay', 'gotta', 'keep', 'going'],\n ['', 'pineda', 'needed', '67', 'great', 'play'],\n ['',\n  'primo',\n  'got',\n  'home',\n  'tanks',\n  'mlb',\n  'finally',\n  'winning',\n  'even',\n  'better',\n  'time',\n  'get',\n  'serious',\n  'sept',\n  'call',\n  'time'],\n ['', 'got', 'beaten', 'thug'],\n ['', 'take', 'three', 'games', 'motown', 'im', 'callin', ''],\n ['', 'wasted', 'nu', 'season', ''],\n ['',\n  'start',\n  'building',\n  'fuckin',\n  'big',\n  'kill',\n  'whole',\n  'flock',\n  'birds',\n  'one',\n  'gogt'],\n ['', 'tattoo', 'bitches', 'corrupt', 'many', 'men', 'possible', ''],\n ['', 'youre', 'proud', 'white', 'trash', ''],\n ['', 'badd', 'ones', 'idkmixxed', 'bitches', 'really', 'tho'],\n ['',\n  'la',\n  'palm',\n  'trees',\n  'great',\n  'weather',\n  'else',\n  'horrible',\n  'weather',\n  'bitches'],\n ['', ''],\n ['', 'bitches'],\n ['', 'bitch', '40st', 'washington', 'space', 'a80', 'httptcoh2hv64h9wh'],\n ['', 'leaving', 'hoes', 'w', ''],\n ['', 'draught', 'horse', 'httptcouvwkhpeswh'],\n ['', 'killed', 'hello', 'whatever', 'go', 'ahead', 'pocketsgt'],\n ['',\n  'merely',\n  'indicator',\n  'something',\n  'wronggt',\n  'celebrate',\n  'unique',\n  'indiviuals',\n  ''],\n ['', 'job', 'white', 'trash'],\n ['',\n  'cuts',\n  'away',\n  'democrat',\n  'talks',\n  'claim',\n  'fair',\n  'balanced',\n  'lmao',\n  'network',\n  'full',\n  'liars'],\n ['', 'wishing', 'httptcol73hik0iz8'],\n ['', 'dont', 'love', 'hoes'],\n ['', 'bitch'],\n ['', 'fans', 'cody', 'zeller', 'nominating', 'years', 'draft', ''],\n ['',\n  'anyone',\n  'jersey',\n  'shore',\n  'famous',\n  'go',\n  'guido',\n  'shitbag',\n  'means',\n  'money',\n  'family'],\n ['',\n  'snappy',\n  'pappy',\n  'bitch',\n  '35x25',\n  'good',\n  'thing',\n  'sable',\n  'paintbrushes',\n  'httptco4gybei5mkl'],\n ['', 'still', 'hanging', 'need', 'win', 'nfl', 'sunday'],\n ['', 'suiting', 'tonight', ''],\n ['', 'bitch', 'nose', 'pierced', 'httpstco1ia8nx6zrs'],\n ['',\n  'dont',\n  'care',\n  'got',\n  'everywhere',\n  'im',\n  'im',\n  'im',\n  'totally',\n  'full',\n  'httptcoqia88qgmwh'],\n ['', 'honkies'],\n ['', 'httptcog3ze8bqlpg'],\n ['',\n  'prove',\n  'wrong',\n  'righties',\n  'liberals',\n  'use',\n  'facts',\n  'cons',\n  'use',\n  'emotions',\n  'make',\n  'decisions',\n  'facts',\n  'damned',\n  'teabagger',\n  'motto'],\n ['', 'httptcovii3smgrm3'],\n ['', 'httptcohueh4hcxx7'],\n ['', 'browngal', 'httptcokfhj8lwhbs'],\n ['', 'bitch', 'get', 'httptco5fjforyy2e'],\n ['',\n  'witcha',\n  'bitch',\n  'pussy',\n  'pussy',\n  'inda',\n  'hood',\n  'ona',\n  'sofawit',\n  'plastic'],\n ['',\n  'shy',\n  'glizzy',\n  'awwsome',\n  'remix',\n  'feat',\n  '2',\n  'chainz',\n  'amp',\n  'aap',\n  'rocky',\n  'via',\n  'httptcoowxtdrkwbc'],\n ['', 'get', 'im', 'chilling', 'till', 'da', 'bitch', 'hit'],\n ['',\n  'niggas',\n  'bitches',\n  'tho',\n  'boy',\n  'niggaz',\n  'b',\n  'bitch',\n  'made',\n  'u',\n  'cud',\n  'kiss',\n  'em',\n  'n',\n  'da',\n  'mouth'],\n ['', 'better', 'ur', 'whole', 'team'],\n ['',\n  'anal',\n  'gaping',\n  'tranny',\n  'play',\n  'panty',\n  'nylon',\n  'part',\n  'httptco35otesnwmx'],\n ['', 'bbc', 'anal', 'creampie', 'bitch', 'httptco3xneg5mnrk'],\n ['', 'blonde', 'tranny', 'ass', 'fucked', 'httptco80arx0qjxz'],\n ['', 'hardcore', 'british', 'queer', 'anal', 'pounding', 'httptcolrueixmy21'],\n ['',\n  'brazilian',\n  'bbw',\n  'babe',\n  'drilled',\n  'pussy',\n  'ass',\n  'httptcoz7ksrfpmz9'],\n ['', 'ebony', 'babe', 'pussy', 'httptco3mxbxezqxr'],\n ['',\n  'caught',\n  'girl',\n  'rubbing',\n  'pussy',\n  'nude',\n  'beach',\n  'httptcoh8lgitfyie'],\n ['',\n  'cute',\n  'preggie',\n  'slut',\n  'big',\n  'tits',\n  'plays',\n  'swollen',\n  'pussy',\n  'httptcoitcpebcem4'],\n ['', 'another', 'pussy', 'close', 'httptcohbjdgvenxa'],\n ['', 'squirting', 'pussy', 'fingered', 'asshole', 'httptcobkyeouwwv2'],\n ['', 'amateur', 'pussy', 'player', 'milf', 'close', 'httptco2uhl7dhhu1'],\n ['', 'cumshot', 'beauty', 'pussy', 'closeup', 'httptcouonsdrauv0'],\n ['', 'pussy', 'fuck', 'close', 'httptco0dvazwlq2q'],\n ['',\n  'young',\n  'japanese',\n  'girl',\n  'hairy',\n  'cunt',\n  'cre',\n  'httptcol46q7moggr'],\n ['',\n  'spicy',\n  'oriental',\n  'paki',\n  'brunette',\n  'sucks',\n  'un',\n  'httptcoorp642pomf'],\n ['', 'paki', 'httptcoxxcdqvzi9t'],\n ['', 'paki', 'httptcocofgrtw9br'],\n ['', 'ebony', 'texas', 'bbw', 'big', 'deep', 'pussy', 'httptcodbbxsow8m2'],\n ['', 'erotic', 'wild', 'tits', 'pussy', 'fucking', 'httptco8hkc56j7c9'],\n ['',\n  'blonde',\n  'tranny',\n  'whore',\n  'gets',\n  'rammed',\n  'facialized',\n  'httptcokd9nu3tmwz'],\n ['', 'dude', 'fists', 'wife', 'big', 'pussy', 'httptcosnfaf5uxxb'],\n ['', 'lovely', 'sounds', 'fisting', 'loose', 'pussy', 'httptco1pmagspkud'],\n ['', 'whipped', 'cream', 'fisting', 'httptcob4jcmctewq'],\n ['',\n  '21',\n  'year',\n  'old',\n  'hairy',\n  'pussy',\n  'cumming',\n  'fingers',\n  'httptcokvgoxkn9vg'],\n ['',\n  'hairy',\n  'florence',\n  'shoves',\n  'dildo',\n  'hairy',\n  'red',\n  'pussy',\n  'httptco4dm8fpcb2d'],\n ['', 'hairy', 'pussy', 'httptco9doibskt17'],\n ['', 'hairy', 'pussy', 'httptcontg2b0qdmx'],\n ['', 'hand', 'job', 'cum', 'rubber', 'pussy', 'httptcozgcnmr2kla'],\n ['', 'amateur', 'boy', 'fucking', 'bitch', 'hiddencam', 'httptcobt8c6qqctd'],\n ['', 'candid', 'pussy', 'shots', 'hidden', 'c', 'httptcoikpj0etz71'],\n ['', 'home', 'made', 'wife', 'rubbing', 'pussy', 'httptcoldb9afwvdm'],\n ['',\n  'using',\n  'submissive',\n  'bitch',\n  'outdoor',\n  'home',\n  'made',\n  'amateur',\n  'httptcofu6aggzhqd'],\n ['', 'baby', 'pussy', 'httptco1o7ajdbjlc'],\n ['',\n  'pretty',\n  'young',\n  'japanese',\n  'girl',\n  'hot',\n  'cunt',\n  'fucked',\n  'amp',\n  'c',\n  'httptcowt5ssof9rw'],\n ['',\n  'young',\n  'japanese',\n  'girl',\n  'hairy',\n  'cunt',\n  'creampied',\n  'httptcorg3pobakkd'],\n ['', 'korean', 'girlfriend', 'pussy', 'httptcood1mquudnn'],\n ['', 'latina', 'chick', 'gets', 'pussy', 'pumped', 'httptco4dhwui5ard'],\n ['', 'latina', 'mature', 'big', 'pussy', 'httptcod4icvcz1bk'],\n ['', 'latina', 'tight', 'pussy', 'httptcordaonqvr1h'],\n ['', 'lesbian', 'girl', 'eating', 'pussy', 'httptcoht9szl3b24'],\n ['',\n  'bitch',\n  'lingerie',\n  'getting',\n  'wet',\n  'cunt',\n  'pounded',\n  'httptcojp4r2vpycb'],\n ['', 'hot', 'black', 'tranny', 'mastu', 'httptcoofggmlxqaj'],\n ['',\n  'old',\n  'bitch',\n  'pleases',\n  'hotlooking',\n  'young',\n  'stud',\n  'httptcoaidkdmztln'],\n ['',\n  'german',\n  'milf',\n  'getting',\n  'young',\n  'old',\n  'cock',\n  'pussy',\n  'httptcokxhzjwg4ii'],\n ['',\n  'small',\n  'tits',\n  'ghetto',\n  'whore',\n  'fucking',\n  'stepdad',\n  'httptcoay6grntouw'],\n ['', 'cutie', 'lesbian', 'teens', 'toy', 'slits', 'httptcozs05enjjwm'],\n ['',\n  'hairy',\n  'alicia',\n  'silver',\n  'amp',\n  'tinslee',\n  'reagan',\n  'hairy',\n  'pussy',\n  'httptcotoljqdxee3'],\n ['', 'homemade', 'pussy', 'eating', 'httptco2yuidrln3k', 'httptcoz8gaiwllye'],\n ['', 'xbox', 'one', 'would', 'much', 'cooler', 'put', 'bird'],\n ['', 'dont', 'tell', 'gf', 'hoe', 'im', 'happy'],\n ['',\n  'hoe',\n  'try',\n  'get',\n  'serious',\n  'someone',\n  'dont',\n  'expect',\n  'anything',\n  'piece',\n  'meat'],\n ['', 'tow', 'truck', 'httpstcoifinqwvrad'],\n ['', 'grape', 'crackhead', 'charlie', 'brown'],\n ['',\n  'highschool',\n  'graduation',\n  'rate',\n  'near',\n  '50',\n  'thats',\n  'many',\n  'uninformed',\n  ''],\n ['',\n  'would',\n  'last',\n  '15mins',\n  'let',\n  'president',\n  'talk',\n  'standing',\n  'clapping',\n  'birds'],\n ['', 'bad', 'bitch', 'httptcojc4bkbe8vt'],\n ['', 'precious', 'gook', 'baby', 'httptco2qjljj6tk5'],\n ['', 'used', 'good', 'rappingnow', 'ima', 'bitch', 'httptco6rv4jijprd'],\n ['', 'took', 'likkle', 'monkey', 'jimmys', 'httptcolik3xpz6ez'],\n ['',\n  'state',\n  'like',\n  'mississippi',\n  'opposed',\n  'minimum',\n  'wage',\n  'child',\n  'labor',\n  'laws',\n  'unions',\n  'proscab',\n  'sweatshop',\n  'work',\n  'pretty',\n  'much',\n  ''],\n ['',\n  'bitches',\n  'amp',\n  'drinking',\n  'mikes',\n  'bc',\n  'sucked',\n  'httptcojfcthdedcz'],\n ['',\n  'rough',\n  'mock',\n  'base',\n  'eventually',\n  'ashtray',\n  'tiki',\n  'ti',\n  'httptco8ze8aqy0'],\n ['', 'bitch', 'httptco7dsz3vcysz'],\n ['', 'nah', 'gonna', 'sit', 'gonna', 'walk', 'bitch'],\n ['',\n  'bitch',\n  'get',\n  'naked',\n  'works',\n  '10',\n  'times',\n  '10',\n  'shes',\n  'drunk',\n  ''],\n ['',\n  'loving',\n  'show',\n  'morning',\n  'chris',\n  'directing',\n  'conversation',\n  'beautifully',\n  'make',\n  'teabaggers',\n  'talk'],\n ['', 'httptcowbaqq5vfpd'],\n ['', 'bitch'],\n ['', 'bad', 'bitches', ''],\n ['', 'bitch', 'httptco7n5x9fyvip'],\n ['',\n  'everytime',\n  'come',\n  'kitchen',\n  'kitchen',\n  'goddamn',\n  'refrigerator',\n  'eatin',\n  'pussy'],\n ['', 'sick', 'guys', 'sing', 'like', 'pussies', 'rock', 'type', 'men'],\n ['', 'u', 'real', 'bitch'],\n ['100',\n  'bid',\n  'go',\n  'date',\n  'zack',\n  'morris',\n  'oh',\n  'dreamy',\n  'son',\n  'bitch'],\n ['3',\n  'bud',\n  'lites',\n  '4',\n  'well',\n  'shots',\n  'bar',\n  'tn',\n  'plus',\n  'im',\n  'giving',\n  'away',\n  'trip',\n  'las',\n  'vegas',\n  'youre',\n  'cunt',\n  'come',\n  'visit',\n  'bourbon',\n  'st'],\n ['60',\n  'torch',\n  'drain',\n  'cause',\n  'either',\n  'high',\n  'lost',\n  'one',\n  'niggas',\n  'finessed',\n  'hoe',\n  'fuckkkkk',\n  'ittt'],\n ['',\n  'killer',\n  'line',\n  'josh',\n  'smith',\n  'dropped',\n  'killer',\n  'trash',\n  'talk',\n  'line',\n  'kenneth',\n  'httptcoc8d3sjoupj'],\n ['', 'piece', 'pussy', 'httptcobcwit2nuz5'],\n ['', 'love', 'salad', 'anyway', 'fuck', 'hoes', 'eat', 'salad'],\n ['', 'plus', 'sheryl', 'crow', 'httptco49kywznotu'],\n ['',\n  'every',\n  'bitch',\n  'n',\n  'passenger',\n  'seat',\n  'dun',\n  'fucked',\n  'least',\n  'one',\n  'time'],\n ['', 'true', 'early', 'bird', 'gets', 'worm', 'first'],\n ['', 'dirty', 'whore', 'love', 'hoe', 'love', 'jesus', 'watching'],\n ['', 'hoe', 'got', 'school', 'shirt', 'sucking', 'dick', ''],\n ['',\n  'lotta',\n  'fck',\n  'niggas',\n  'twitter',\n  'really',\n  'talking',\n  'like',\n  'bitches'],\n ['', 'bitches', 'started', 'shooting', 'party', 'fuck', 'new', 'orleans'],\n ['', 'bitches', 'giving', 'back', 'rubs', ''],\n ['',\n  'coon',\n  'grew',\n  'bokoo',\n  'coons',\n  'tho',\n  'never',\n  '1',\n  'coon',\n  'shit',\n  'tho'],\n ['',\n  'nigga',\n  'smashing',\n  'hoe',\n  'hoe',\n  'paying',\n  'condo',\n  'still',\n  'yep',\n  'fucboy'],\n ['', 'watching', 'niggers', 'fight', 'youtubevineig'],\n ['', 'dont', 'like', 'rest', 'bitches', 'waiting', 'give', 'fuck', ''],\n ['', 'id', 'rather', 'called', 'nigger', 'uncle', 'tom', 'mark'],\n ['',\n  'bet',\n  'yall',\n  'bitches',\n  'deaf',\n  'mc',\n  'lytes',\n  'words',\n  'treated',\n  'like',\n  'queen',\n  'huh'],\n ['', 'hiho', 'httptcofic4fnrutz'],\n ['',\n  'onea',\n  'yall',\n  'btches',\n  'gon',\n  'end',\n  'dead',\n  'screen',\n  'shot',\n  'thinkn',\n  'sht',\n  'funnyaint',\n  'many',\n  'niccas',\n  'gon',\n  'laugh',\n  'b'],\n ['',\n  'congrats',\n  'youve',\n  'turned',\n  'hoe',\n  'housewife',\n  'dont',\n  'get',\n  'shitty',\n  'guys',\n  'start',\n  'singing',\n  'hit',\n  'first',\n  ''],\n ['', 'got', 'ur', 'bitch', 'tip', 'toeing', 'marble', 'floors'],\n ['',\n  'omg',\n  'thinccin',\n  'makes',\n  'laugh',\n  'use',\n  'stay',\n  'talking',\n  'shit',\n  '3rd',\n  'period',\n  'cute',\n  'amp',\n  'bitch',\n  ''],\n ['', 'needa', 'stop', 'sucking', 'dick', 'hoe', ''],\n ['',\n  'omg',\n  'lil',\n  'b',\n  'followed',\n  'yassss',\n  'bitch',\n  'follow',\n  'everybody',\n  'shut',\n  'yo',\n  'ass'],\n ['', 'hop', 'hoe', 'come', ''],\n ['',\n  'lmao',\n  'nigga',\n  'lets',\n  'go',\n  'half',\n  'weed',\n  'brownie',\n  'laughing',\n  'hard',\n  'hell',\n  'senior',\n  'seminar'],\n ['', 'amp', 'aint', 'ho', 'get', 'trap', 'hooouseee'],\n ['',\n  'ugh',\n  'bitch',\n  'love',\n  'amp',\n  'simply',\n  'flawless',\n  'remember',\n  'cute',\n  'peice',\n  'hair',\n  'hella',\n  'short',\n  ''],\n ['', 'pussy', 'ride', 'dick', 'like', 'jamaican', 'gt', 'amp'],\n ['', 'pussy', 'httptcomwxqnjm4so'],\n ['', 'loyal', 'pussy', ''],\n ['', 'bitch', ''],\n ['',\n  'important',\n  'thing',\n  'temporary',\n  'bullshit',\n  'lies',\n  'fa',\n  'birds',\n  'kill',\n  ''],\n ['', 'racist', 'month', 'fuck', 'u', 'honkey'],\n ['',\n  'gucci',\n  'b',\n  'rude',\n  'shit',\n  'lol',\n  'thats',\n  'nice',\n  'bitch',\n  'aint',\n  'worth',\n  'quarter',\n  ''],\n ['', 'mimi', 'old', 'covering', 'titties', 'sex', 'bitch', 'childish'],\n ['',\n  'lmfao',\n  'watching',\n  'porn',\n  'amp',\n  'beating',\n  'amp',\n  'yo',\n  'homie',\n  'text',\n  'u',\n  'amp',\n  'show',\n  'name',\n  'banner',\n  'youre',\n  'faggot'],\n ['', 'bruh', 'hoes', 'gotta', 'stupid'],\n ['',\n  'somebody',\n  'gonna',\n  'die',\n  'theres',\n  'bitch',\n  'njt',\n  'setting',\n  'lean',\n  'tweet'],\n ['',\n  'yall',\n  'boring',\n  'sex',\n  'nope',\n  'lick',\n  'side',\n  'bitch',\n  'face',\n  'im',\n  'hittin',\n  'back'],\n ['', 'course', 'cooders', 'nudes', 'trash', 'lives', 'dmv', 'expect', ''],\n ['',\n  'stomach',\n  'pain',\n  'like',\n  'mufucka',\n  'nigga',\n  'thats',\n  'rating',\n  'bitches',\n  '310',\n  'httptcoyflfubj2po'],\n ['', 'bitches', 'get', 'stuff', 'done', 'httptcogvfpk65ah5'],\n ['', 'fucc', 'nicca', 'yu', 'pose', 'pullin'],\n ['',\n  'maaaaannnn',\n  'hope',\n  'get',\n  'rid',\n  'john',\n  'legend',\n  'looking',\n  'charlie',\n  'batch'],\n ['', 'mike', 'calls', 'tbird', ''],\n ['',\n  'niggas',\n  'sending',\n  'screenshots',\n  'bitches',\n  'like',\n  'stop',\n  'texting',\n  'cuh',\n  ''],\n ['', 'white', 'bitch', 'think', 'miley', 'cyrus', 'httptcolffy5hvcna'],\n ['', 'seen', 'thot', 'ass', 'bitch', 'high', 'top', 'whites'],\n ['', 'nicca', 'gotta', 'team', 'full', 'worsum', 'hoes'],\n ['',\n  'hoe',\n  'dmd',\n  'sayin',\n  'never',\n  'give',\n  'dreamsfuckin',\n  'fortune',\n  'cookie',\n  'ass',\n  'hoe',\n  'fuck',\n  'dms'],\n ['', 'dyke', 'get', 'pregnant', 'mistake', 'gtgtgtgtgt'],\n ['', 'bitch', 'know', 'got', 'games', 'phone', 'httptcoi2hyinfidw'],\n ['', 'bitch', 'lrt'],\n ['', 'burnt', 'pussy', 'lips'],\n ['',\n  'said',\n  'tl',\n  'gotta',\n  'chill',\n  'pretty',\n  'face',\n  'challenge',\n  'foolishness',\n  'yall',\n  'hoes',\n  'agg'],\n ['', 'nah', 'round', 'molly', 'bitches', 'nigga', 'mollies'],\n ['',\n  'played',\n  'nigga',\n  'smh',\n  'bitches',\n  'shady',\n  'oh',\n  'god',\n  'httptco1vhc9lqskg'],\n ['', 'bitch', 'go', 'away', 'tu', 'puta', 'madre', ''],\n ['', 'bitch', 'mad', 'af', 'httpstco9c4i4w7q7d'],\n ['',\n  'hate',\n  'cyrus',\n  'ho',\n  'rookie',\n  'slut',\n  'getting',\n  'cash',\n  'date',\n  'nope',\n  'nope',\n  'nope'],\n ['',\n  'youre',\n  'trying',\n  'relax',\n  'pussy',\n  'shooting',\n  'light',\n  'beams',\n  'httptco5ehbmr8tko'],\n ['', 'murda', 'sucking', 'bitches', ''],\n ['', 'bitch', 'youre', 'hobbit', 'need', 'let', 'know', 'right', ''],\n ['', 'folks', 'bad', 'im', 'talk', 'trash'],\n ['', 'brittany', 'bitch', 'u', 'dog', 'man', ''],\n ['', 'smh', 'bitch', 'sellin', 'ass'],\n ...]"
     },
     "metadata": {},
     "execution_count": 27
    }
   ],
   "source": [
    "[tweet for tweet in dt_transformed['tweet_wo_RT_username_punct_split_stopwords']]"
   ]
  },
  {
   "cell_type": "code",
   "execution_count": null,
   "metadata": {},
   "outputs": [],
   "source": []
  }
 ],
 "metadata": {
  "language_info": {
   "codemirror_mode": {
    "name": "ipython",
    "version": 3
   },
   "file_extension": ".py",
   "mimetype": "text/x-python",
   "name": "python",
   "nbconvert_exporter": "python",
   "pygments_lexer": "ipython3",
   "version": 3
  },
  "orig_nbformat": 2,
  "kernelspec": {
   "name": "python_defaultSpec_1611097049689",
   "display_name": "Python 3.9.1 64-bit ('.venv': venv)"
  }
 },
 "nbformat": 4,
 "nbformat_minor": 2
}