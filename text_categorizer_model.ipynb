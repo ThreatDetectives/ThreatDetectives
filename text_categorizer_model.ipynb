{
 "cells": [
  {
   "cell_type": "code",
   "execution_count": 45,
   "metadata": {},
   "outputs": [],
   "source": [
    "import nltk\n",
    "import numpy as np\n",
    "import pandas as pd\n",
    "import matplotlib.pyplot as plt\n",
    "from sklearn.feature_extraction.text import CountVectorizer\n",
    "from sklearn.model_selection import train_test_split\n",
    "from sklearn.feature_extraction.text import CountVectorizer\n",
    "from sklearn.linear_model import LogisticRegression"
   ]
  },
  {
   "cell_type": "markdown",
   "metadata": {},
   "source": [
    "### In the `read_csv` function, we have passed a parameter for *encoding*, because our data set contains non-english words that's not supported by the default pandas `read_csv` function. "
   ]
  },
  {
   "cell_type": "code",
   "execution_count": 46,
   "metadata": {},
   "outputs": [
    {
     "output_type": "execute_result",
     "data": {
      "text/plain": "   Unnamed: 0  count  hate_speech  offensive_language  neither  class  \\\n0           0      3            0                   0        3      2   \n1           1      3            0                   3        0      1   \n2           2      3            0                   3        0      1   \n3           3      3            0                   2        1      1   \n4           4      6            0                   6        0      1   \n\n                                               tweet  \n0  !!! RT @mayasolovely: As a woman you shouldn't...  \n1  !!!!! RT @mleew17: boy dats cold...tyga dwn ba...  \n2  !!!!!!! RT @UrKindOfBrand Dawg!!!! RT @80sbaby...  \n3  !!!!!!!!! RT @C_G_Anderson: @viva_based she lo...  \n4  !!!!!!!!!!!!! RT @ShenikaRoberts: The shit you...  ",
      "text/html": "<div>\n<style scoped>\n    .dataframe tbody tr th:only-of-type {\n        vertical-align: middle;\n    }\n\n    .dataframe tbody tr th {\n        vertical-align: top;\n    }\n\n    .dataframe thead th {\n        text-align: right;\n    }\n</style>\n<table border=\"1\" class=\"dataframe\">\n  <thead>\n    <tr style=\"text-align: right;\">\n      <th></th>\n      <th>Unnamed: 0</th>\n      <th>count</th>\n      <th>hate_speech</th>\n      <th>offensive_language</th>\n      <th>neither</th>\n      <th>class</th>\n      <th>tweet</th>\n    </tr>\n  </thead>\n  <tbody>\n    <tr>\n      <th>0</th>\n      <td>0</td>\n      <td>3</td>\n      <td>0</td>\n      <td>0</td>\n      <td>3</td>\n      <td>2</td>\n      <td>!!! RT @mayasolovely: As a woman you shouldn't...</td>\n    </tr>\n    <tr>\n      <th>1</th>\n      <td>1</td>\n      <td>3</td>\n      <td>0</td>\n      <td>3</td>\n      <td>0</td>\n      <td>1</td>\n      <td>!!!!! RT @mleew17: boy dats cold...tyga dwn ba...</td>\n    </tr>\n    <tr>\n      <th>2</th>\n      <td>2</td>\n      <td>3</td>\n      <td>0</td>\n      <td>3</td>\n      <td>0</td>\n      <td>1</td>\n      <td>!!!!!!! RT @UrKindOfBrand Dawg!!!! RT @80sbaby...</td>\n    </tr>\n    <tr>\n      <th>3</th>\n      <td>3</td>\n      <td>3</td>\n      <td>0</td>\n      <td>2</td>\n      <td>1</td>\n      <td>1</td>\n      <td>!!!!!!!!! RT @C_G_Anderson: @viva_based she lo...</td>\n    </tr>\n    <tr>\n      <th>4</th>\n      <td>4</td>\n      <td>6</td>\n      <td>0</td>\n      <td>6</td>\n      <td>0</td>\n      <td>1</td>\n      <td>!!!!!!!!!!!!! RT @ShenikaRoberts: The shit you...</td>\n    </tr>\n  </tbody>\n</table>\n</div>"
     },
     "metadata": {},
     "execution_count": 46
    }
   ],
   "source": [
    "dataset = pd.read_csv('./labeled_data.csv', encoding='ISO-8859-1')\n",
    "dataset.head()\n"
   ]
  },
  {
   "cell_type": "code",
   "execution_count": 47,
   "metadata": {},
   "outputs": [
    {
     "output_type": "stream",
     "name": "stdout",
     "text": "<class 'pandas.core.frame.DataFrame'>\nRangeIndex: 24783 entries, 0 to 24782\nData columns (total 7 columns):\n #   Column              Non-Null Count  Dtype \n---  ------              --------------  ----- \n 0   Unnamed: 0          24783 non-null  int64 \n 1   count               24783 non-null  int64 \n 2   hate_speech         24783 non-null  int64 \n 3   offensive_language  24783 non-null  int64 \n 4   neither             24783 non-null  int64 \n 5   class               24783 non-null  int64 \n 6   tweet               24783 non-null  object\ndtypes: int64(6), object(1)\nmemory usage: 1.3+ MB\n"
    }
   ],
   "source": [
    "dataset.info()"
   ]
  },
  {
   "cell_type": "code",
   "execution_count": 48,
   "metadata": {},
   "outputs": [
    {
     "output_type": "execute_result",
     "data": {
      "text/plain": "                      count          mean          std  min     25%      50%  \\\nUnnamed: 0          24783.0  12681.192027  7299.553863  0.0  6372.5  12703.0   \ncount               24783.0      3.243473     0.883060  3.0     3.0      3.0   \nhate_speech         24783.0      0.280515     0.631851  0.0     0.0      0.0   \noffensive_language  24783.0      2.413711     1.399459  0.0     2.0      3.0   \nneither             24783.0      0.549247     1.113299  0.0     0.0      0.0   \nclass               24783.0      1.110277     0.462089  0.0     1.0      1.0   \n\n                        75%      max  \nUnnamed: 0          18995.5  25296.0  \ncount                   3.0      9.0  \nhate_speech             0.0      7.0  \noffensive_language      3.0      9.0  \nneither                 0.0      9.0  \nclass                   1.0      2.0  ",
      "text/html": "<div>\n<style scoped>\n    .dataframe tbody tr th:only-of-type {\n        vertical-align: middle;\n    }\n\n    .dataframe tbody tr th {\n        vertical-align: top;\n    }\n\n    .dataframe thead th {\n        text-align: right;\n    }\n</style>\n<table border=\"1\" class=\"dataframe\">\n  <thead>\n    <tr style=\"text-align: right;\">\n      <th></th>\n      <th>count</th>\n      <th>mean</th>\n      <th>std</th>\n      <th>min</th>\n      <th>25%</th>\n      <th>50%</th>\n      <th>75%</th>\n      <th>max</th>\n    </tr>\n  </thead>\n  <tbody>\n    <tr>\n      <th>Unnamed: 0</th>\n      <td>24783.0</td>\n      <td>12681.192027</td>\n      <td>7299.553863</td>\n      <td>0.0</td>\n      <td>6372.5</td>\n      <td>12703.0</td>\n      <td>18995.5</td>\n      <td>25296.0</td>\n    </tr>\n    <tr>\n      <th>count</th>\n      <td>24783.0</td>\n      <td>3.243473</td>\n      <td>0.883060</td>\n      <td>3.0</td>\n      <td>3.0</td>\n      <td>3.0</td>\n      <td>3.0</td>\n      <td>9.0</td>\n    </tr>\n    <tr>\n      <th>hate_speech</th>\n      <td>24783.0</td>\n      <td>0.280515</td>\n      <td>0.631851</td>\n      <td>0.0</td>\n      <td>0.0</td>\n      <td>0.0</td>\n      <td>0.0</td>\n      <td>7.0</td>\n    </tr>\n    <tr>\n      <th>offensive_language</th>\n      <td>24783.0</td>\n      <td>2.413711</td>\n      <td>1.399459</td>\n      <td>0.0</td>\n      <td>2.0</td>\n      <td>3.0</td>\n      <td>3.0</td>\n      <td>9.0</td>\n    </tr>\n    <tr>\n      <th>neither</th>\n      <td>24783.0</td>\n      <td>0.549247</td>\n      <td>1.113299</td>\n      <td>0.0</td>\n      <td>0.0</td>\n      <td>0.0</td>\n      <td>0.0</td>\n      <td>9.0</td>\n    </tr>\n    <tr>\n      <th>class</th>\n      <td>24783.0</td>\n      <td>1.110277</td>\n      <td>0.462089</td>\n      <td>0.0</td>\n      <td>1.0</td>\n      <td>1.0</td>\n      <td>1.0</td>\n      <td>2.0</td>\n    </tr>\n  </tbody>\n</table>\n</div>"
     },
     "metadata": {},
     "execution_count": 48
    }
   ],
   "source": [
    "dataset.describe().T"
   ]
  },
  {
   "cell_type": "code",
   "execution_count": 49,
   "metadata": {},
   "outputs": [
    {
     "output_type": "execute_result",
     "data": {
      "text/plain": "   class                                              tweet\n0      2  !!! RT @mayasolovely: As a woman you shouldn't...\n1      1  !!!!! RT @mleew17: boy dats cold...tyga dwn ba...\n2      1  !!!!!!! RT @UrKindOfBrand Dawg!!!! RT @80sbaby...\n3      1  !!!!!!!!! RT @C_G_Anderson: @viva_based she lo...\n4      1  !!!!!!!!!!!!! RT @ShenikaRoberts: The shit you...",
      "text/html": "<div>\n<style scoped>\n    .dataframe tbody tr th:only-of-type {\n        vertical-align: middle;\n    }\n\n    .dataframe tbody tr th {\n        vertical-align: top;\n    }\n\n    .dataframe thead th {\n        text-align: right;\n    }\n</style>\n<table border=\"1\" class=\"dataframe\">\n  <thead>\n    <tr style=\"text-align: right;\">\n      <th></th>\n      <th>class</th>\n      <th>tweet</th>\n    </tr>\n  </thead>\n  <tbody>\n    <tr>\n      <th>0</th>\n      <td>2</td>\n      <td>!!! RT @mayasolovely: As a woman you shouldn't...</td>\n    </tr>\n    <tr>\n      <th>1</th>\n      <td>1</td>\n      <td>!!!!! RT @mleew17: boy dats cold...tyga dwn ba...</td>\n    </tr>\n    <tr>\n      <th>2</th>\n      <td>1</td>\n      <td>!!!!!!! RT @UrKindOfBrand Dawg!!!! RT @80sbaby...</td>\n    </tr>\n    <tr>\n      <th>3</th>\n      <td>1</td>\n      <td>!!!!!!!!! RT @C_G_Anderson: @viva_based she lo...</td>\n    </tr>\n    <tr>\n      <th>4</th>\n      <td>1</td>\n      <td>!!!!!!!!!!!!! RT @ShenikaRoberts: The shit you...</td>\n    </tr>\n  </tbody>\n</table>\n</div>"
     },
     "metadata": {},
     "execution_count": 49
    }
   ],
   "source": [
    "dt_transformed = dataset[['class', 'tweet']]\n",
    "dt_transformed.head()"
   ]
  },
  {
   "cell_type": "markdown",
   "metadata": {},
   "source": [
    "# Cleaning the labeled data"
   ]
  },
  {
   "cell_type": "code",
   "execution_count": 50,
   "metadata": {},
   "outputs": [
    {
     "output_type": "execute_result",
     "data": {
      "text/plain": "   class                                              tweet  \\\n0      2  !!! RT @mayasolovely: As a woman you shouldn't...   \n1      1  !!!!! RT @mleew17: boy dats cold...tyga dwn ba...   \n2      1  !!!!!!! RT @UrKindOfBrand Dawg!!!! RT @80sbaby...   \n3      1  !!!!!!!!! RT @C_G_Anderson: @viva_based she lo...   \n4      1  !!!!!!!!!!!!! RT @ShenikaRoberts: The shit you...   \n\n                                tweet_wo_RT_username  \n0  !!!   As a woman you shouldn't complain about ...  \n1  !!!!!   boy dats cold...tyga dwn bad for cuffi...  \n2  !!!!!!!   Dawg!!!!   You ever fuck a bitch and...  \n3                !!!!!!!!!    she look like a tranny  \n4  !!!!!!!!!!!!!   The shit you hear about me mig...  ",
      "text/html": "<div>\n<style scoped>\n    .dataframe tbody tr th:only-of-type {\n        vertical-align: middle;\n    }\n\n    .dataframe tbody tr th {\n        vertical-align: top;\n    }\n\n    .dataframe thead th {\n        text-align: right;\n    }\n</style>\n<table border=\"1\" class=\"dataframe\">\n  <thead>\n    <tr style=\"text-align: right;\">\n      <th></th>\n      <th>class</th>\n      <th>tweet</th>\n      <th>tweet_wo_RT_username</th>\n    </tr>\n  </thead>\n  <tbody>\n    <tr>\n      <th>0</th>\n      <td>2</td>\n      <td>!!! RT @mayasolovely: As a woman you shouldn't...</td>\n      <td>!!!   As a woman you shouldn't complain about ...</td>\n    </tr>\n    <tr>\n      <th>1</th>\n      <td>1</td>\n      <td>!!!!! RT @mleew17: boy dats cold...tyga dwn ba...</td>\n      <td>!!!!!   boy dats cold...tyga dwn bad for cuffi...</td>\n    </tr>\n    <tr>\n      <th>2</th>\n      <td>1</td>\n      <td>!!!!!!! RT @UrKindOfBrand Dawg!!!! RT @80sbaby...</td>\n      <td>!!!!!!!   Dawg!!!!   You ever fuck a bitch and...</td>\n    </tr>\n    <tr>\n      <th>3</th>\n      <td>1</td>\n      <td>!!!!!!!!! RT @C_G_Anderson: @viva_based she lo...</td>\n      <td>!!!!!!!!!    she look like a tranny</td>\n    </tr>\n    <tr>\n      <th>4</th>\n      <td>1</td>\n      <td>!!!!!!!!!!!!! RT @ShenikaRoberts: The shit you...</td>\n      <td>!!!!!!!!!!!!!   The shit you hear about me mig...</td>\n    </tr>\n  </tbody>\n</table>\n</div>"
     },
     "metadata": {},
     "execution_count": 50
    }
   ],
   "source": [
    "#remove user names by pulling all the characters inbetween \"@\" and \":\"\n",
    "\n",
    "import re\n",
    "\n",
    "def remove_RT_user(text):\n",
    "    tweet = re.sub(\"@[^\\s]+\", \"\", text)\n",
    "    hashtag = re.sub(\"#[^\\s]+\", \"\", tweet)\n",
    "    no_rt = re.sub(\"RT\", \"\", hashtag)\n",
    "    return no_rt\n",
    "\n",
    "dt_transformed['tweet_wo_RT_username'] = dt_transformed['tweet'].apply(lambda x: remove_user(x))\n",
    "dt_transformed.head()"
   ]
  },
  {
   "cell_type": "code",
   "execution_count": 51,
   "metadata": {},
   "outputs": [
    {
     "output_type": "stream",
     "name": "stdout",
     "text": "!\"#$%&'()*+,-./:;<=>?@[\\]^_`{|}~\n"
    },
    {
     "output_type": "execute_result",
     "data": {
      "text/plain": "   class                                              tweet  \\\n0      2  !!! RT @mayasolovely: As a woman you shouldn't...   \n1      1  !!!!! RT @mleew17: boy dats cold...tyga dwn ba...   \n2      1  !!!!!!! RT @UrKindOfBrand Dawg!!!! RT @80sbaby...   \n3      1  !!!!!!!!! RT @C_G_Anderson: @viva_based she lo...   \n4      1  !!!!!!!!!!!!! RT @ShenikaRoberts: The shit you...   \n\n                                tweet_wo_RT_username  \\\n0  !!!   As a woman you shouldn't complain about ...   \n1  !!!!!   boy dats cold...tyga dwn bad for cuffi...   \n2  !!!!!!!   Dawg!!!!   You ever fuck a bitch and...   \n3                !!!!!!!!!    she look like a tranny   \n4  !!!!!!!!!!!!!   The shit you hear about me mig...   \n\n                          tweet_wo_RT_username_punct  \n0     As a woman you shouldnt complain about clea...  \n1     boy dats coldtyga dwn bad for cuffin dat ho...  \n2     Dawg   You ever fuck a bitch and she start ...  \n3                             she look like a tranny  \n4     The shit you hear about me might be true or...  ",
      "text/html": "<div>\n<style scoped>\n    .dataframe tbody tr th:only-of-type {\n        vertical-align: middle;\n    }\n\n    .dataframe tbody tr th {\n        vertical-align: top;\n    }\n\n    .dataframe thead th {\n        text-align: right;\n    }\n</style>\n<table border=\"1\" class=\"dataframe\">\n  <thead>\n    <tr style=\"text-align: right;\">\n      <th></th>\n      <th>class</th>\n      <th>tweet</th>\n      <th>tweet_wo_RT_username</th>\n      <th>tweet_wo_RT_username_punct</th>\n    </tr>\n  </thead>\n  <tbody>\n    <tr>\n      <th>0</th>\n      <td>2</td>\n      <td>!!! RT @mayasolovely: As a woman you shouldn't...</td>\n      <td>!!!   As a woman you shouldn't complain about ...</td>\n      <td>As a woman you shouldnt complain about clea...</td>\n    </tr>\n    <tr>\n      <th>1</th>\n      <td>1</td>\n      <td>!!!!! RT @mleew17: boy dats cold...tyga dwn ba...</td>\n      <td>!!!!!   boy dats cold...tyga dwn bad for cuffi...</td>\n      <td>boy dats coldtyga dwn bad for cuffin dat ho...</td>\n    </tr>\n    <tr>\n      <th>2</th>\n      <td>1</td>\n      <td>!!!!!!! RT @UrKindOfBrand Dawg!!!! RT @80sbaby...</td>\n      <td>!!!!!!!   Dawg!!!!   You ever fuck a bitch and...</td>\n      <td>Dawg   You ever fuck a bitch and she start ...</td>\n    </tr>\n    <tr>\n      <th>3</th>\n      <td>1</td>\n      <td>!!!!!!!!! RT @C_G_Anderson: @viva_based she lo...</td>\n      <td>!!!!!!!!!    she look like a tranny</td>\n      <td>she look like a tranny</td>\n    </tr>\n    <tr>\n      <th>4</th>\n      <td>1</td>\n      <td>!!!!!!!!!!!!! RT @ShenikaRoberts: The shit you...</td>\n      <td>!!!!!!!!!!!!!   The shit you hear about me mig...</td>\n      <td>The shit you hear about me might be true or...</td>\n    </tr>\n  </tbody>\n</table>\n</div>"
     },
     "metadata": {},
     "execution_count": 51
    }
   ],
   "source": [
    "# removing punctuation\n",
    "\n",
    "import string\n",
    "print(string.punctuation)\n",
    "\n",
    "def remove_punctuation(text):\n",
    "    no_punct=[words for words in text if words not in string.punctuation]\n",
    "    words_wo_punct=''.join(no_punct)\n",
    "    return words_wo_punct\n",
    "\n",
    "dt_transformed['tweet_wo_RT_username_punct'] = dt_transformed['tweet_wo_RT_username'].apply(lambda x: remove_punctuation(x))\n",
    "dt_transformed.head()\n"
   ]
  },
  {
   "cell_type": "code",
   "execution_count": 52,
   "metadata": {},
   "outputs": [
    {
     "output_type": "execute_result",
     "data": {
      "text/plain": "   class                                              tweet  \\\n0      2  !!! RT @mayasolovely: As a woman you shouldn't...   \n1      1  !!!!! RT @mleew17: boy dats cold...tyga dwn ba...   \n2      1  !!!!!!! RT @UrKindOfBrand Dawg!!!! RT @80sbaby...   \n3      1  !!!!!!!!! RT @C_G_Anderson: @viva_based she lo...   \n4      1  !!!!!!!!!!!!! RT @ShenikaRoberts: The shit you...   \n\n                                tweet_wo_RT_username  \\\n0  !!!   As a woman you shouldn't complain about ...   \n1  !!!!!   boy dats cold...tyga dwn bad for cuffi...   \n2  !!!!!!!   Dawg!!!!   You ever fuck a bitch and...   \n3                !!!!!!!!!    she look like a tranny   \n4  !!!!!!!!!!!!!   The shit you hear about me mig...   \n\n                          tweet_wo_RT_username_punct  \\\n0     As a woman you shouldnt complain about clea...   \n1     boy dats coldtyga dwn bad for cuffin dat ho...   \n2     Dawg   You ever fuck a bitch and she start ...   \n3                             she look like a tranny   \n4     The shit you hear about me might be true or...   \n\n                    tweet_wo_RT_username_punct_split  \n0  [, as, a, woman, you, shouldnt, complain, abou...  \n1  [, boy, dats, coldtyga, dwn, bad, for, cuffin,...  \n2  [, dawg, you, ever, fuck, a, bitch, and, she, ...  \n3                     [, she, look, like, a, tranny]  \n4  [, the, shit, you, hear, about, me, might, be,...  ",
      "text/html": "<div>\n<style scoped>\n    .dataframe tbody tr th:only-of-type {\n        vertical-align: middle;\n    }\n\n    .dataframe tbody tr th {\n        vertical-align: top;\n    }\n\n    .dataframe thead th {\n        text-align: right;\n    }\n</style>\n<table border=\"1\" class=\"dataframe\">\n  <thead>\n    <tr style=\"text-align: right;\">\n      <th></th>\n      <th>class</th>\n      <th>tweet</th>\n      <th>tweet_wo_RT_username</th>\n      <th>tweet_wo_RT_username_punct</th>\n      <th>tweet_wo_RT_username_punct_split</th>\n    </tr>\n  </thead>\n  <tbody>\n    <tr>\n      <th>0</th>\n      <td>2</td>\n      <td>!!! RT @mayasolovely: As a woman you shouldn't...</td>\n      <td>!!!   As a woman you shouldn't complain about ...</td>\n      <td>As a woman you shouldnt complain about clea...</td>\n      <td>[, as, a, woman, you, shouldnt, complain, abou...</td>\n    </tr>\n    <tr>\n      <th>1</th>\n      <td>1</td>\n      <td>!!!!! RT @mleew17: boy dats cold...tyga dwn ba...</td>\n      <td>!!!!!   boy dats cold...tyga dwn bad for cuffi...</td>\n      <td>boy dats coldtyga dwn bad for cuffin dat ho...</td>\n      <td>[, boy, dats, coldtyga, dwn, bad, for, cuffin,...</td>\n    </tr>\n    <tr>\n      <th>2</th>\n      <td>1</td>\n      <td>!!!!!!! RT @UrKindOfBrand Dawg!!!! RT @80sbaby...</td>\n      <td>!!!!!!!   Dawg!!!!   You ever fuck a bitch and...</td>\n      <td>Dawg   You ever fuck a bitch and she start ...</td>\n      <td>[, dawg, you, ever, fuck, a, bitch, and, she, ...</td>\n    </tr>\n    <tr>\n      <th>3</th>\n      <td>1</td>\n      <td>!!!!!!!!! RT @C_G_Anderson: @viva_based she lo...</td>\n      <td>!!!!!!!!!    she look like a tranny</td>\n      <td>she look like a tranny</td>\n      <td>[, she, look, like, a, tranny]</td>\n    </tr>\n    <tr>\n      <th>4</th>\n      <td>1</td>\n      <td>!!!!!!!!!!!!! RT @ShenikaRoberts: The shit you...</td>\n      <td>!!!!!!!!!!!!!   The shit you hear about me mig...</td>\n      <td>The shit you hear about me might be true or...</td>\n      <td>[, the, shit, you, hear, about, me, might, be,...</td>\n    </tr>\n  </tbody>\n</table>\n</div>"
     },
     "metadata": {},
     "execution_count": 52
    }
   ],
   "source": [
    "# Tokenization = splitting strings into words\n",
    "\n",
    "def tokenize(text):\n",
    "    split = re.split(\"\\W+\", text)\n",
    "    return split\n",
    "\n",
    "dt_transformed['tweet_wo_RT_username_punct_split'] = dt_transformed['tweet_wo_RT_username_punct'].apply(lambda x: tokenize(x.lower()))\n",
    "dt_transformed.head()"
   ]
  },
  {
   "cell_type": "code",
   "execution_count": 53,
   "metadata": {},
   "outputs": [
    {
     "output_type": "stream",
     "name": "stdout",
     "text": "['i', 'me', 'my', 'myself', 'we', 'our', 'ours', 'ourselves', 'you', \"you're\", \"you've\"]\n"
    },
    {
     "output_type": "execute_result",
     "data": {
      "text/plain": "   class                                              tweet  \\\n0      2  !!! RT @mayasolovely: As a woman you shouldn't...   \n1      1  !!!!! RT @mleew17: boy dats cold...tyga dwn ba...   \n2      1  !!!!!!! RT @UrKindOfBrand Dawg!!!! RT @80sbaby...   \n3      1  !!!!!!!!! RT @C_G_Anderson: @viva_based she lo...   \n4      1  !!!!!!!!!!!!! RT @ShenikaRoberts: The shit you...   \n\n                                tweet_wo_RT_username  \\\n0  !!!   As a woman you shouldn't complain about ...   \n1  !!!!!   boy dats cold...tyga dwn bad for cuffi...   \n2  !!!!!!!   Dawg!!!!   You ever fuck a bitch and...   \n3                !!!!!!!!!    she look like a tranny   \n4  !!!!!!!!!!!!!   The shit you hear about me mig...   \n\n                          tweet_wo_RT_username_punct  \\\n0     As a woman you shouldnt complain about clea...   \n1     boy dats coldtyga dwn bad for cuffin dat ho...   \n2     Dawg   You ever fuck a bitch and she start ...   \n3                             she look like a tranny   \n4     The shit you hear about me might be true or...   \n\n                    tweet_wo_RT_username_punct_split  \\\n0  [, as, a, woman, you, shouldnt, complain, abou...   \n1  [, boy, dats, coldtyga, dwn, bad, for, cuffin,...   \n2  [, dawg, you, ever, fuck, a, bitch, and, she, ...   \n3                     [, she, look, like, a, tranny]   \n4  [, the, shit, you, hear, about, me, might, be,...   \n\n          tweet_wo_RT_username_punct_split_stopwords  \n0  [, woman, shouldnt, complain, cleaning, house,...  \n1  [, boy, dats, coldtyga, dwn, bad, cuffin, dat,...  \n2  [, dawg, ever, fuck, bitch, start, cry, confus...  \n3                             [, look, like, tranny]  \n4  [, shit, hear, might, true, might, faker, bitc...  ",
      "text/html": "<div>\n<style scoped>\n    .dataframe tbody tr th:only-of-type {\n        vertical-align: middle;\n    }\n\n    .dataframe tbody tr th {\n        vertical-align: top;\n    }\n\n    .dataframe thead th {\n        text-align: right;\n    }\n</style>\n<table border=\"1\" class=\"dataframe\">\n  <thead>\n    <tr style=\"text-align: right;\">\n      <th></th>\n      <th>class</th>\n      <th>tweet</th>\n      <th>tweet_wo_RT_username</th>\n      <th>tweet_wo_RT_username_punct</th>\n      <th>tweet_wo_RT_username_punct_split</th>\n      <th>tweet_wo_RT_username_punct_split_stopwords</th>\n    </tr>\n  </thead>\n  <tbody>\n    <tr>\n      <th>0</th>\n      <td>2</td>\n      <td>!!! RT @mayasolovely: As a woman you shouldn't...</td>\n      <td>!!!   As a woman you shouldn't complain about ...</td>\n      <td>As a woman you shouldnt complain about clea...</td>\n      <td>[, as, a, woman, you, shouldnt, complain, abou...</td>\n      <td>[, woman, shouldnt, complain, cleaning, house,...</td>\n    </tr>\n    <tr>\n      <th>1</th>\n      <td>1</td>\n      <td>!!!!! RT @mleew17: boy dats cold...tyga dwn ba...</td>\n      <td>!!!!!   boy dats cold...tyga dwn bad for cuffi...</td>\n      <td>boy dats coldtyga dwn bad for cuffin dat ho...</td>\n      <td>[, boy, dats, coldtyga, dwn, bad, for, cuffin,...</td>\n      <td>[, boy, dats, coldtyga, dwn, bad, cuffin, dat,...</td>\n    </tr>\n    <tr>\n      <th>2</th>\n      <td>1</td>\n      <td>!!!!!!! RT @UrKindOfBrand Dawg!!!! RT @80sbaby...</td>\n      <td>!!!!!!!   Dawg!!!!   You ever fuck a bitch and...</td>\n      <td>Dawg   You ever fuck a bitch and she start ...</td>\n      <td>[, dawg, you, ever, fuck, a, bitch, and, she, ...</td>\n      <td>[, dawg, ever, fuck, bitch, start, cry, confus...</td>\n    </tr>\n    <tr>\n      <th>3</th>\n      <td>1</td>\n      <td>!!!!!!!!! RT @C_G_Anderson: @viva_based she lo...</td>\n      <td>!!!!!!!!!    she look like a tranny</td>\n      <td>she look like a tranny</td>\n      <td>[, she, look, like, a, tranny]</td>\n      <td>[, look, like, tranny]</td>\n    </tr>\n    <tr>\n      <th>4</th>\n      <td>1</td>\n      <td>!!!!!!!!!!!!! RT @ShenikaRoberts: The shit you...</td>\n      <td>!!!!!!!!!!!!!   The shit you hear about me mig...</td>\n      <td>The shit you hear about me might be true or...</td>\n      <td>[, the, shit, you, hear, about, me, might, be,...</td>\n      <td>[, shit, hear, might, true, might, faker, bitc...</td>\n    </tr>\n  </tbody>\n</table>\n</div>"
     },
     "metadata": {},
     "execution_count": 53
    }
   ],
   "source": [
    "stopword = nltk.corpus.stopwords.words('english')\n",
    "print(stopword[:11])\n",
    "\n",
    "def remove_stopwords(text):\n",
    "    text = [word for word in text if word not in stopword]\n",
    "    return text\n",
    "\n",
    "dt_transformed['tweet_wo_RT_username_punct_split_stopwords'] = dt_transformed['tweet_wo_RT_username_punct_split'].apply(lambda x: remove_stopwords(x))\n",
    "dt_transformed.head()"
   ]
  },
  {
   "cell_type": "code",
   "execution_count": 54,
   "metadata": {},
   "outputs": [
    {
     "output_type": "error",
     "ename": "KeyError",
     "evalue": "'tweets'",
     "traceback": [
      "\u001b[0;31m---------------------------------------------------------------------------\u001b[0m",
      "\u001b[0;31mKeyError\u001b[0m                                  Traceback (most recent call last)",
      "\u001b[0;32m~/codefellows/401/projects/ThreatDetectives/.venv/lib/python3.9/site-packages/pandas/core/indexes/base.py\u001b[0m in \u001b[0;36mget_loc\u001b[0;34m(self, key, method, tolerance)\u001b[0m\n\u001b[1;32m   3079\u001b[0m             \u001b[0;32mtry\u001b[0m\u001b[0;34m:\u001b[0m\u001b[0;34m\u001b[0m\u001b[0;34m\u001b[0m\u001b[0m\n\u001b[0;32m-> 3080\u001b[0;31m                 \u001b[0;32mreturn\u001b[0m \u001b[0mself\u001b[0m\u001b[0;34m.\u001b[0m\u001b[0m_engine\u001b[0m\u001b[0;34m.\u001b[0m\u001b[0mget_loc\u001b[0m\u001b[0;34m(\u001b[0m\u001b[0mcasted_key\u001b[0m\u001b[0;34m)\u001b[0m\u001b[0;34m\u001b[0m\u001b[0;34m\u001b[0m\u001b[0m\n\u001b[0m\u001b[1;32m   3081\u001b[0m             \u001b[0;32mexcept\u001b[0m \u001b[0mKeyError\u001b[0m \u001b[0;32mas\u001b[0m \u001b[0merr\u001b[0m\u001b[0;34m:\u001b[0m\u001b[0;34m\u001b[0m\u001b[0;34m\u001b[0m\u001b[0m\n",
      "\u001b[0;32mpandas/_libs/index.pyx\u001b[0m in \u001b[0;36mpandas._libs.index.IndexEngine.get_loc\u001b[0;34m()\u001b[0m\n",
      "\u001b[0;32mpandas/_libs/index.pyx\u001b[0m in \u001b[0;36mpandas._libs.index.IndexEngine.get_loc\u001b[0;34m()\u001b[0m\n",
      "\u001b[0;32mpandas/_libs/hashtable_class_helper.pxi\u001b[0m in \u001b[0;36mpandas._libs.hashtable.PyObjectHashTable.get_item\u001b[0;34m()\u001b[0m\n",
      "\u001b[0;32mpandas/_libs/hashtable_class_helper.pxi\u001b[0m in \u001b[0;36mpandas._libs.hashtable.PyObjectHashTable.get_item\u001b[0;34m()\u001b[0m\n",
      "\u001b[0;31mKeyError\u001b[0m: 'tweets'",
      "\nThe above exception was the direct cause of the following exception:\n",
      "\u001b[0;31mKeyError\u001b[0m                                  Traceback (most recent call last)",
      "\u001b[0;32m<ipython-input-54-801f54ef20dc>\u001b[0m in \u001b[0;36m<module>\u001b[0;34m\u001b[0m\n\u001b[1;32m      2\u001b[0m \u001b[0;34m\u001b[0m\u001b[0m\n\u001b[1;32m      3\u001b[0m \u001b[0mtweets\u001b[0m \u001b[0;34m=\u001b[0m \u001b[0mdt_transformed\u001b[0m\u001b[0;34m[\u001b[0m\u001b[0;34m[\u001b[0m\u001b[0;34m'tweet_wo_RT_username_punct_split_stopwords'\u001b[0m\u001b[0;34m]\u001b[0m\u001b[0;34m]\u001b[0m\u001b[0;34m\u001b[0m\u001b[0;34m\u001b[0m\u001b[0m\n\u001b[0;32m----> 4\u001b[0;31m \u001b[0mtweet_list\u001b[0m \u001b[0;34m=\u001b[0m \u001b[0;34m[\u001b[0m\u001b[0mtweet\u001b[0m \u001b[0;32mfor\u001b[0m \u001b[0mtweet\u001b[0m \u001b[0;32min\u001b[0m \u001b[0mdt_transformed\u001b[0m\u001b[0;34m[\u001b[0m\u001b[0;34m'tweets'\u001b[0m\u001b[0;34m]\u001b[0m\u001b[0;34m]\u001b[0m\u001b[0;34m\u001b[0m\u001b[0;34m\u001b[0m\u001b[0m\n\u001b[0m\u001b[1;32m      5\u001b[0m \u001b[0;34m\u001b[0m\u001b[0m\n\u001b[1;32m      6\u001b[0m \u001b[0mvectorizer\u001b[0m \u001b[0;34m=\u001b[0m \u001b[0mCountVectorizer\u001b[0m\u001b[0;34m(\u001b[0m\u001b[0;34m)\u001b[0m\u001b[0;34m\u001b[0m\u001b[0;34m\u001b[0m\u001b[0m\n",
      "\u001b[0;32m~/codefellows/401/projects/ThreatDetectives/.venv/lib/python3.9/site-packages/pandas/core/frame.py\u001b[0m in \u001b[0;36m__getitem__\u001b[0;34m(self, key)\u001b[0m\n\u001b[1;32m   3022\u001b[0m             \u001b[0;32mif\u001b[0m \u001b[0mself\u001b[0m\u001b[0;34m.\u001b[0m\u001b[0mcolumns\u001b[0m\u001b[0;34m.\u001b[0m\u001b[0mnlevels\u001b[0m \u001b[0;34m>\u001b[0m \u001b[0;36m1\u001b[0m\u001b[0;34m:\u001b[0m\u001b[0;34m\u001b[0m\u001b[0;34m\u001b[0m\u001b[0m\n\u001b[1;32m   3023\u001b[0m                 \u001b[0;32mreturn\u001b[0m \u001b[0mself\u001b[0m\u001b[0;34m.\u001b[0m\u001b[0m_getitem_multilevel\u001b[0m\u001b[0;34m(\u001b[0m\u001b[0mkey\u001b[0m\u001b[0;34m)\u001b[0m\u001b[0;34m\u001b[0m\u001b[0;34m\u001b[0m\u001b[0m\n\u001b[0;32m-> 3024\u001b[0;31m             \u001b[0mindexer\u001b[0m \u001b[0;34m=\u001b[0m \u001b[0mself\u001b[0m\u001b[0;34m.\u001b[0m\u001b[0mcolumns\u001b[0m\u001b[0;34m.\u001b[0m\u001b[0mget_loc\u001b[0m\u001b[0;34m(\u001b[0m\u001b[0mkey\u001b[0m\u001b[0;34m)\u001b[0m\u001b[0;34m\u001b[0m\u001b[0;34m\u001b[0m\u001b[0m\n\u001b[0m\u001b[1;32m   3025\u001b[0m             \u001b[0;32mif\u001b[0m \u001b[0mis_integer\u001b[0m\u001b[0;34m(\u001b[0m\u001b[0mindexer\u001b[0m\u001b[0;34m)\u001b[0m\u001b[0;34m:\u001b[0m\u001b[0;34m\u001b[0m\u001b[0;34m\u001b[0m\u001b[0m\n\u001b[1;32m   3026\u001b[0m                 \u001b[0mindexer\u001b[0m \u001b[0;34m=\u001b[0m \u001b[0;34m[\u001b[0m\u001b[0mindexer\u001b[0m\u001b[0;34m]\u001b[0m\u001b[0;34m\u001b[0m\u001b[0;34m\u001b[0m\u001b[0m\n",
      "\u001b[0;32m~/codefellows/401/projects/ThreatDetectives/.venv/lib/python3.9/site-packages/pandas/core/indexes/base.py\u001b[0m in \u001b[0;36mget_loc\u001b[0;34m(self, key, method, tolerance)\u001b[0m\n\u001b[1;32m   3080\u001b[0m                 \u001b[0;32mreturn\u001b[0m \u001b[0mself\u001b[0m\u001b[0;34m.\u001b[0m\u001b[0m_engine\u001b[0m\u001b[0;34m.\u001b[0m\u001b[0mget_loc\u001b[0m\u001b[0;34m(\u001b[0m\u001b[0mcasted_key\u001b[0m\u001b[0;34m)\u001b[0m\u001b[0;34m\u001b[0m\u001b[0;34m\u001b[0m\u001b[0m\n\u001b[1;32m   3081\u001b[0m             \u001b[0;32mexcept\u001b[0m \u001b[0mKeyError\u001b[0m \u001b[0;32mas\u001b[0m \u001b[0merr\u001b[0m\u001b[0;34m:\u001b[0m\u001b[0;34m\u001b[0m\u001b[0;34m\u001b[0m\u001b[0m\n\u001b[0;32m-> 3082\u001b[0;31m                 \u001b[0;32mraise\u001b[0m \u001b[0mKeyError\u001b[0m\u001b[0;34m(\u001b[0m\u001b[0mkey\u001b[0m\u001b[0;34m)\u001b[0m \u001b[0;32mfrom\u001b[0m \u001b[0merr\u001b[0m\u001b[0;34m\u001b[0m\u001b[0;34m\u001b[0m\u001b[0m\n\u001b[0m\u001b[1;32m   3083\u001b[0m \u001b[0;34m\u001b[0m\u001b[0m\n\u001b[1;32m   3084\u001b[0m         \u001b[0;32mif\u001b[0m \u001b[0mtolerance\u001b[0m \u001b[0;32mis\u001b[0m \u001b[0;32mnot\u001b[0m \u001b[0;32mNone\u001b[0m\u001b[0;34m:\u001b[0m\u001b[0;34m\u001b[0m\u001b[0;34m\u001b[0m\u001b[0m\n",
      "\u001b[0;31mKeyError\u001b[0m: 'tweets'"
     ]
    }
   ],
   "source": [
    "\n",
    "# Bag of Words\n",
    "\n",
    "tweets = dt_transformed[['tweet_wo_RT_username_punct_split_stopwords']]\n",
    "tweet_list = [tweet for tweet in dt_transformed['tweets']]\n",
    "\n",
    "vectorizer = CountVectorizer()\n",
    "vectorizer.fit(tweet_list[:100])\n",
    "vectorizer.vocabulary_"
   ]
  },
  {
   "cell_type": "code",
   "execution_count": 55,
   "metadata": {},
   "outputs": [
    {
     "output_type": "execute_result",
     "data": {
      "text/plain": "pandas.core.frame.DataFrame"
     },
     "metadata": {},
     "execution_count": 55
    }
   ],
   "source": [
    "tweets = dt_transformed[['tweet']]\n",
    "type(tweets)"
   ]
  },
  {
   "cell_type": "code",
   "execution_count": 56,
   "metadata": {},
   "outputs": [
    {
     "output_type": "execute_result",
     "data": {
      "text/plain": "in',\n  'big',\n  'kill',\n  'whole',\n  'flock',\n  'birds',\n  'one',\n  'gogt'],\n ['yeswedid',\n  'tattoo',\n  'bitches',\n  'corrupt',\n  'many',\n  'men',\n  'possible',\n  'egypt',\n  'cattle',\n  'prod',\n  'votegt'],\n ['youwillnotbetakenseriouslyif',\n  'youre',\n  'proud',\n  'white',\n  'trash',\n  'kedollarsignha'],\n ['agreed',\n  '5839958399',\n  'badd',\n  'ones',\n  'idkmixxed',\n  'bitches',\n  'really',\n  'tho'],\n ['anywere',\n  '8220',\n  'la',\n  'palm',\n  'trees',\n  'great',\n  'weather',\n  'else',\n  'horrible',\n  'weather',\n  'bitches8221'],\n ['bad', 'ass', 'local', 'bitches'],\n ['boom', 'bitches'],\n ['bslfe',\n  'bitch',\n  'pullup',\n  '40st',\n  'washington',\n  'space',\n  'a80',\n  'httptcoh2hv64h9wh'],\n ['creamteam', 'leaving', 'hoes', 'w', 'cockbreath'],\n ['drunk',\n  'trash',\n  'trashed',\n  'wasted',\n  'draught',\n  'horse',\n  'httptcouvwkhpeswh'],\n ['faggots',\n  'killed',\n  'jesuschristgt',\n  'hello',\n  'whatever',\n  'go',\n  'ahead',\n  'gaymarriage',\n  'pharaohs',\n  'pocketsgt'],\n ['faggots',\n  'merely',\n  'scientific',\n  'indicator',\n  'something',\n  'wronggt',\n  'celebrate',\n  'unique',\n  'indiviuals',\n  'cancergt'],\n ['firefighter', 'job', 'white', 'trash'],\n ['foxnews',\n  'cuts',\n  'away',\n  'democrat',\n  'talks',\n  'claim',\n  'fair',\n  'balanced',\n  'lmao',\n  'network',\n  'full',\n  'teabaggers',\n  'liars'],\n ['gouache',\n  'inktober',\n  'oldpainting',\n  'mt',\n  'tiki',\n  'wahine',\n  'surf',\n  'monkey',\n  'bright',\n  'happysunday',\n  'peace',\n  'wishing8230',\n  'httptcol73hik0iz8'],\n ['honestyhour', 'dont', 'love', 'hoes'],\n ['honeybadger', 'bitch'],\n ['hoosier',\n  'fans',\n  'cody',\n  'zeller',\n  'nominating',\n  'years',\n  'nba',\n  'draft',\n  'iubb'],\n ['illneverunderstandwhy',\n  'anyone',\n  'jersey',\n  'shore',\n  'famous',\n  'go',\n  'guido',\n  'shitbag',\n  'means',\n  'money',\n  'family'],\n ['inktober',\n  'twentysix',\n  'gouache',\n  'mt',\n  'snappy',\n  'pappy',\n  'bitch',\n  '35x25',\n  'good',\n  'thing',\n  'sable',\n  'paintbrushes8230',\n  'httptco4gybei5mkl'],\n ['inners', 'still', 'hanging', 'yankees', 'need', 'win', 'nfl', 'sunday'],\n ['iubb',\n  '1',\n  'suiting',\n  'tonight',\n  'indiana',\n  'iu',\n  'ncaa',\n  'hoosierdaddy',\n  'hoosiernation',\n  'hoosiers'],\n ['klokus',\n  'bitch',\n  'nose',\n  'pierced',\n  '128514128514128514128514128514128514128514128514',\n  'httpstco1ia8nx6zrs'],\n ['longhair',\n  'dont',\n  'care',\n  'got',\n  'gayboyproblems',\n  'everywhere',\n  'im',\n  'bitch',\n  'im',\n  'champ',\n  'im',\n  'totally',\n  'full',\n  'of8230',\n  'httptcoqia88qgmwh'],\n ['metal', 'honkies'],\n ['milesthompson', 'goauche', 'wetback', 'ca', 'httptcog3ze8bqlpg'],\n ['morningjoe',\n  'prove',\n  'wrong',\n  'righties',\n  'liberals',\n  'use',\n  'facts',\n  'cons',\n  'use',\n  'emotions',\n  'make',\n  'decisions',\n  'facts',\n  'damned',\n  'teabagger',\n  'motto'],\n ['mt',\n  'commission',\n  'gouache',\n  'tiki',\n  'wahine',\n  'monkey',\n  'tubed',\n  'surfing',\n  'wavesliding',\n  'waterwalker',\n  'notkook',\n  'httptcovii3smgrm3'],\n ['mt',\n  'goauche',\n  'monkey',\n  'oldpainting',\n  'vinyl',\n  'jazz',\n  'lounge',\n  'httptcohueh4hcxx7'],\n ['mt', 'browngal', 'gouache', 'monkey', 'tiki', 'httptcokfhj8lwhbs'],\n ['nationaldoughnutday', 'bitch', 'get', '127849', 'httptco5fjforyy2e'],\n ['nowplaying',\n  'witcha',\n  'bitch',\n  'pussy',\n  'pussy',\n  'inda',\n  'hood',\n  'ona',\n  'sofawit',\n  'plastic'],\n ['np',\n  'shy',\n  'glizzy',\n  'awwsome',\n  'remix',\n  'feat',\n  '2',\n  'chainz',\n  'amp',\n  'aap',\n  'rocky',\n  'via',\n  'httptcoowxtdrkwbc'],\n ['oomf', 'get', 'im', 'chilling', 'till', 'da', 'bitch', 'hit'],\n ['pause',\n  'niggas',\n  'bitches',\n  'tho',\n  'boy',\n  'niggaz',\n  'b',\n  'bitch',\n  'made',\n  'u',\n  'cud',\n  'kiss',\n  'em',\n  'n',\n  'da',\n  'mouth'],\n ['philhughes', 'nyy', 'better', 'ur', 'whole', 'team'],\n ['pornandroidiphoneipadsexxxx',\n  'anal',\n  'anal',\n  'gaping',\n  'tranny',\n  'play',\n  'panty',\n  'nylon',\n  'part',\n  'httptco35otesnwmx'],\n ['pornandroidiphoneipadsexxxx',\n  'anal',\n  'bbc',\n  'anal',\n  'creampie',\n  'bitch',\n  'httptco3xneg5mnrk'],\n ['pornandroidiphoneipadsexxxx',\n  'anal',\n  'blonde',\n  'tranny',\n  'ass',\n  'fucked',\n  'httptco80arx0qjxz'],\n ['pornandroidiphoneipadsexxxx',\n  'anal',\n  'hardcore',\n  'british',\n  'queer',\n  'anal',\n  'pounding',\n  'httptcolrueixmy21'],\n ['pornandroidiphoneipadsexxxx',\n  'bbw',\n  'brazilian',\n  'bbw',\n  'babe',\n  'drilled',\n  'pussy',\n  'ass',\n  'httptcoz7ksrfpmz9'],\n ['pornandroidiphoneipadsexxxx',\n  'babe',\n  'ebony',\n  'babe',\n  'pussy',\n  'httptco3mxbxezqxr'],\n ['pornandroidiphoneipadsexxxx',\n  'beach',\n  'caught',\n  'girl',\n  'rubbing',\n  'pussy',\n  'nude',\n  'beach',\n  'httptcoh8lgitfyie'],\n ['pornandroidiphoneipadsexxxx',\n  'bigtits',\n  'cute',\n  'preggie',\n  'slut',\n  'big',\n  'tits',\n  'plays',\n  'swollen',\n  'pussy',\n  'httptcoitcpebcem4'],\n ['pornandroidiphoneipadsexxxx',\n  'close',\n  'another',\n  'pussy',\n  'close',\n  'httptcohbjdgvenxa'],\n ['pornandroidiphoneipadsexxxx',\n  'closeup',\n  'squirting',\n  'pussy',\n  'fingered',\n  'asshole',\n  'httptcobkyeouwwv2'],\n ['pornandroidiphoneipadsexxxx',\n  'closeup',\n  'amateur',\n  'pussy',\n  'player',\n  'milf',\n  'close',\n  'httptco2uhl7dhhu1'],\n ['pornandroidiphoneipadsexxxx',\n  'closeup',\n  'cumshot',\n  'beauty',\n  'pussy',\n  'closeup',\n  'httptcouonsdrauv0'],\n ['pornandroidiphoneipadsexxxx',\n  'closeup',\n  'pussy',\n  'fuck',\n  'close',\n  'httptco0dvazwlq2q'],\n ['pornandroidiphoneipadsexxxx',\n  'creampie',\n  'young',\n  'japanese',\n  'girl8217s',\n  'hairy',\n  'cunt',\n  'cre',\n  'httptcol46q7moggr'],\n ['pornandroidiphoneipadsexxxx',\n  'desi',\n  'spicy',\n  'oriental',\n  'paki',\n  'brunette',\n  'sucks',\n  'un',\n  'httptcoorp642pomf'],\n ['pornandroidiphoneipadsexxxx', 'desi', 'paki', 'httptcoxxcdqvzi9t'],\n ['pornandroidiphoneipadsexxxx', 'desi', 'paki', 'httptcocofgrtw9br'],\n ['pornandroidiphoneipadsexxxx',\n  'ebony',\n  'ebony',\n  'texas',\n  'bbw',\n  'big',\n  'deep',\n  'pussy',\n  'httptcodbbxsow8m2'],\n ['pornandroidiphoneipadsexxxx',\n  'erotic',\n  'erotic',\n  'wild',\n  'tits',\n  'pussy',\n  'fucking',\n  'httptco8hkc56j7c9'],\n ['pornandroidiphoneipadsexxxx',\n  'facial',\n  'blonde',\n  'tranny',\n  'whore',\n  'gets',\n  'rammed',\n  'facialized',\n  'httptcokd9nu3tmwz'],\n ['pornandroidiphoneipadsexxxx',\n  'fisting',\n  'dude',\n  'fists',\n  'wife8217s',\n  'big',\n  'pussy',\n  'httptcosnfaf5uxxb'],\n ['pornandroidiphoneipadsexxxx',\n  'fisting',\n  'lovely',\n  'sounds',\n  'fisting',\n  'loose',\n  'pussy',\n  'httptco1pmagspkud'],\n ['pornandroidiphoneipadsexxxx',\n  'fisting',\n  'whipped',\n  'cream',\n  'fisting',\n  'httptcob4jcmctewq'],\n ['pornandroidiphoneipadsexxxx',\n  'hairy',\n  '21',\n  'year',\n  'old',\n  'hairy',\n  'pussy',\n  'cumming',\n  'fingers',\n  'httptcokvgoxkn9vg'],\n ['pornandroidiphoneipadsexxxx',\n  'hairy',\n  'hairy',\n  'florence',\n  'shoves',\n  'dildo',\n  'hairy',\n  'red',\n  'pussy',\n  'httptco4dm8fpcb2d'],\n ['pornandroidiphoneipadsexxxx',\n  'hairy',\n  'hairy',\n  'pussy',\n  'httptco9doibskt17'],\n ['pornandroidiphoneipadsexxxx',\n  'hairy',\n  'hairy',\n  'pussy',\n  'httptcontg2b0qdmx'],\n ['pornandroidiphoneipadsexxxx',\n  'handjob',\n  'hand',\n  'job',\n  'cum',\n  'rubber',\n  'pussy',\n  'httptcozgcnmr2kla'],\n ['pornandroidiphoneipadsexxxx',\n  'hiddencams',\n  'amateur',\n  'boy',\n  'fucking',\n  'bitch',\n  'hiddencam',\n  'httptcobt8c6qqctd'],\n ['pornandroidiphoneipadsexxxx',\n  'hiddencams',\n  'candid',\n  'pussy',\n  'shots',\n  'hidden',\n  'c',\n  'httptcoikpj0etz71'],\n ['pornandroidiphoneipadsexxxx',\n  'homemade',\n  'home',\n  'made',\n  'wife',\n  'rubbing',\n  'pussy',\n  'httptcoldb9afwvdm'],\n ['pornandroidiphoneipadsexxxx',\n  'homemade',\n  'using',\n  'submissive',\n  'bitch',\n  'outdoor',\n  'home',\n  'made',\n  'amateur',\n  'httptcofu6aggzhqd'],\n ['pornandroidiphoneipadsexxxx',\n  'italian',\n  'baby',\n  'pussy',\n  'httptco1o7ajdbjlc'],\n ['pornandroidiphoneipadsexxxx',\n  'japanese',\n  'pretty',\n  'young',\n  'japanese',\n  'girl8217s',\n  'hot',\n  'cunt',\n  'fucked',\n  'amp',\n  'c',\n  'httptcowt5ssof9rw'],\n ['pornandroidiphoneipadsexxxx',\n  'japanese',\n  'young',\n  'japanese',\n  'girl8217s',\n  'hairy',\n  'cunt',\n  'creampied',\n  'httptcorg3pobakkd'],\n ['pornandroidiphoneipadsexxxx',\n  'korean',\n  'korean',\n  'girlfriend',\n  'pussy',\n  'httptcood1mquudnn'],\n ['pornandroidiphoneipadsexxxx',\n  'latina',\n  'latina',\n  'chick',\n  'gets',\n  'pussy',\n  'pumped',\n  'httptco4dhwui5ard'],\n ['pornandroidiphoneipadsexxxx',\n  'latina',\n  'latina',\n  'mature',\n  'big',\n  'pussy',\n  'httptcod4icvcz1bk'],\n ['pornandroidiphoneipadsexxxx',\n  'latina',\n  'latina',\n  'tight',\n  'pussy',\n  'httptcordaonqvr1h'],\n ['pornandroidiphoneipadsexxxx',\n  'lesbian',\n  'lesbian',\n  'girl',\n  'eating',\n  'pussy',\n  'httptcoht9szl3b24'],\n ['pornandroidiphoneipadsexxxx',\n  'lingerie',\n  'bitch',\n  'lingerie',\n  'getting',\n  'wet',\n  'cunt',\n  'pounded',\n  'httptcojp4r2vpycb'],\n ['pornandroidiphoneipadsexxxx',\n  'masturbation',\n  'hot',\n  'black',\n  'tranny',\n  'mastu',\n  'httptcoofggmlxqaj'],\n ['pornandroidiphoneipadsexxxx',\n  'oldyoung',\n  'old',\n  'bitch',\n  'pleases',\n  'hotlooking',\n  'young',\n  'stud',\n  'httptcoaidkdmztln'],\n ['pornandroidiphoneipadsexxxx',\n  'oldyoung',\n  'german',\n  'milf',\n  'getting',\n  'young',\n  'old',\n  'cock',\n  'pussy',\n  'httptcokxhzjwg4ii'],\n ['pornandroidiphoneipadsexxxx',\n  'smalltits',\n  'small',\n  'tits',\n  'ghetto',\n  'whore',\n  'fucking',\n  'stepdad',\n  'httptcoay6grntouw'],\n ['pornandroidiphoneipadsexxxx',\n  'teen',\n  'cutie',\n  'lesbian',\n  'teens',\n  'toy',\n  'slits',\n  'httptcozs05enjjwm'],\n ['pornandroidiphoneipadsexxxx',\n  'xxx',\n  'hairy',\n  'alicia',\n  'silver',\n  'amp',\n  'tinslee',\n  'reagan',\n  'hairy',\n  'pussy',\n  '65533',\n  'httptcotoljqdxee3'],\n ['pornandroidiphoneipadsexxxx',\n  'xxx',\n  'homemade',\n  'pussy',\n  'eating',\n  '8211',\n  'httptco2yuidrln3k',\n  'httptcoz8gaiwllye'],\n ['portlandia',\n  'putabirdonit',\n  'xbox',\n  'one',\n  'would',\n  'much',\n  'cooler',\n  'put',\n  'bird'],\n ['real', 'dont', 'tell', 'gf', 'hoe', 'im', 'happy'],\n ['realtalk',\n  'hoe',\n  'try',\n  'get',\n  'serious',\n  'someone',\n  'dont',\n  'expect',\n  'anything',\n  'piece',\n  'meat'],\n ['redneck',\n  'tow',\n  'truck',\n  'johndeere',\n  '4455',\n  'america',\n  'httpstcoifinqwvrad'],\n ['rejectedpeanutsspecials', 'grape', 'crackhead', 'charlie', 'brown'],\n ['southcarolina',\n  'highschool',\n  'graduation',\n  'rate',\n  'near',\n  '50',\n  'thats',\n  'many',\n  'uninformed',\n  'teabaggers',\n  'morningjoe'],\n ['stateoftheunion',\n  'would',\n  'last',\n  '15mins',\n  'let',\n  'president',\n  'talk',\n  'standing',\n  'clapping',\n  'birds'],\n ['tbt', 'bad', 'bitch', 'httptcojc4bkbe8vt'],\n ['tbt',\n  'precious',\n  'gook',\n  'baby',\n  '128525128525128525128525128525128525',\n  'httptco2qjljj6tk5'],\n ['tbt',\n  'used',\n  'good',\n  'rappingnow',\n  'ima',\n  'bitch',\n  '128542128299',\n  'httptco6rv4jijprd'],\n ['tbt', 'took', 'likkle', 'monkey', 'jimmys', 'httptcolik3xpz6ez'],\n ['teabagger',\n  'state',\n  'like',\n  'mississippi',\n  'opposed',\n  'minimum',\n  'wage',\n  'child',\n  'labor',\n  'laws',\n  'unions',\n  'proscab',\n  'sweatshop',\n  'work',\n  'pretty',\n  'much',\n  'slavery'],\n ['throwback',\n  'bitches',\n  'amp',\n  'drinking',\n  'mikes',\n  'bc',\n  'sucked',\n  'httptcojfcthdedcz'],\n ['tikiti',\n  'rough',\n  'mock',\n  'base',\n  'eventually',\n  'ashtray',\n  'tiki',\n  'ti',\n  'httptco8ze8aqy0'],\n ['truefriendtuesday', 'bitch', 'httptco7dsz3vcysz'],\n ['tweetlikelexi', 'nah', 'gonna', 'sit', 'gonna', 'walk', 'bitch'],\n ['ultimatepickupline',\n  'bitch',\n  'get',\n  'naked',\n  'works',\n  '10',\n  'times',\n  '10',\n  'shes',\n  'drunk',\n  ''],\n ['uppers',\n  'loving',\n  'show',\n  'morning',\n  'chris',\n  'directing',\n  'conversation',\n  'beautifully',\n  'make',\n  'teabaggers',\n  'talk'],\n ['vegas', 'bitch', 'httptcowbaqq5vfpd'],\n ['wallofthewasatch', 'bitch'],\n ['wcw', 'bad', 'bitches', '128069128166'],\n ['wcw', 'bitch', '128536128514', 'httptco7n5x9fyvip'],\n ['wrongfilmquotes',\n  'everytime',\n  'come',\n  'kitchen',\n  'kitchen',\n  'goddamn',\n  'refrigerator',\n  'eatin',\n  'pussy'],\n ['xfactorau',\n  'sick',\n  'guys',\n  'sing',\n  'like',\n  'pussies',\n  'rock',\n  'type',\n  'men'],\n ['youaremoreattractive', 'u', 'real', 'bitch'],\n ['100',\n  'bid',\n  'go',\n  'date',\n  'zack',\n  'morris',\n  'oh',\n  'dreamy',\n  'son',\n  'bitch'],\n ['3',\n  'bud',\n  'lites',\n  '4',\n  'well',\n  'shots',\n  'bar',\n  'tn',\n  'plus',\n  'im',\n  'giving',\n  'away',\n  'trip',\n  'las',\n  'vegas',\n  'youre',\n  'cunt',\n  'come',\n  'visit',\n  'bourbon',\n  'st'],\n ['60',\n  'torch',\n  'drain',\n  'cause',\n  'either',\n  'high',\n  'lost',\n  'one',\n  'niggas',\n  'finessed',\n  'hoe',\n  'fuckkkkk',\n  'ittt'],\n ['127813127813127813',\n  'killer',\n  'line',\n  'josh',\n  'smith',\n  'dropped',\n  'killer',\n  'trash',\n  'talk',\n  'line',\n  'kenneth',\n  'httptcoc8d3sjoupj8221'],\n ['127829128049', 'piece', 'pussy', 'httptcobcwit2nuz5'],\n ['127850',\n  'love',\n  'salad',\n  '8220',\n  'anyway',\n  'fuck',\n  'hoes',\n  'eat',\n  'salad8221'],\n ['127867127867127867127804128153127913',\n  'plus',\n  'sheryl',\n  'crow',\n  'httptco49kywznotu'],\n ['127942',\n  'every',\n  'bitch',\n  'n',\n  'passenger',\n  'seat',\n  'dun',\n  'fucked',\n  'least',\n  'one',\n  'time'],\n ['128027128176128184',\n  '8220',\n  'true',\n  'early',\n  'bird',\n  'gets',\n  'worm',\n  'first8221'],\n ['128034', 'dirty', 'whore', 'love', 'hoe', 'love', 'jesus', 'watching'],\n ['128064',\n  'hoe',\n  'got',\n  'school',\n  'shirt',\n  'sucking',\n  'dick',\n  '128553128553128553128553128553128553'],\n ['128064',\n  'lotta',\n  'fck',\n  'niggas',\n  'twitter',\n  'really',\n  'talking',\n  'like',\n  'bitches'],\n ['128064',\n  'bitches',\n  'started',\n  'shooting',\n  'party',\n  'fuck',\n  'new',\n  'orleans'],\n ['128064', 'bitches', 'giving', 'back', 'rubs', ''],\n ['128072never',\n  'coon',\n  'grew',\n  'bokoo',\n  'coons',\n  'tho',\n  'never',\n  '1',\n  'coon',\n  'shit',\n  'tho'],\n ['128073',\n  'nigga',\n  'smashing',\n  'hoe',\n  'hoe',\n  'paying',\n  'condo',\n  'still',\n  '128514128514128514128514',\n  'yep',\n  'fucboy'],\n ['128073', 'guiltypleasure', 'watching', 'niggers', 'fight', 'youtubevineig'],\n ['128073',\n  'dont',\n  'like',\n  '128186with',\n  'rest',\n  'bitches',\n  'waiting',\n  'give',\n  'fuck',\n  '128540128129'],\n ['128073', 'id', 'rather', 'called', 'nigger', 'uncle', 'tom', 'mark'],\n ['128073',\n  'bet',\n  'yall',\n  'bitches',\n  'deaf',\n  'mc',\n  'lytes',\n  'words',\n  'treated',\n  'like',\n  'queen',\n  'huh'],\n ['128075', 'hiho', 'httptcofic4fnrutz'],\n ['128077',\n  'onea',\n  'yall',\n  'btches',\n  'gon',\n  'end',\n  'dead',\n  'screen',\n  'shot',\n  'thinkn',\n  'sht',\n  'funnyaint',\n  'many',\n  'niccas',\n  'gon',\n  'laugh',\n  'b'],\n ['128079',\n  'congrats',\n  'youve',\n  'turned',\n  'hoe',\n  'housewife',\n  'dont',\n  'get',\n  'shitty',\n  'guys',\n  'start',\n  'singing',\n  'hit',\n  'first',\n  'butthatsnoneofmybusiness'],\n ['128095128095128095128095',\n  'got',\n  'ur',\n  'bitch',\n  'tip',\n  'toeing',\n  'marble',\n  'floors'],\n ['128114128069128166128149',\n  '128514128557',\n  'omg',\n  'thinccin',\n  'makes',\n  'laugh',\n  'use',\n  'stay',\n  'talking',\n  'shit',\n  '3rd',\n  'period',\n  'cute',\n  'amp',\n  'bitch',\n  '9994128514128557'],\n ['128119128119', 'needa', 'stop', 'sucking', 'dick', 'hoe', '128514128514'],\n ['128128',\n  'omg',\n  'lil',\n  'b',\n  'followed',\n  'yassss',\n  'bitch',\n  'follow',\n  'everybody',\n  'shut',\n  'yo',\n  'ass'],\n ['128128128128',\n  '128557128128',\n  '8220',\n  'hop',\n  'hoe',\n  'come',\n  '1280791280791280791280791280791280791280798221'],\n ['128129128513128586',\n  'lmao',\n  'nigga',\n  'lets',\n  'go',\n  'half',\n  'weed',\n  'brownie',\n  '128553',\n  'laughing',\n  'hard',\n  'hell',\n  'senior',\n  'seminar'],\n ['128131128131', 'amp', 'aint', 'ho', 'get', 'trap', 'hooouseee'],\n ['128139128175',\n  'ugh',\n  'bitch',\n  'love',\n  'amp',\n  '128553',\n  'simply',\n  'flawless',\n  '128149',\n  'remember',\n  'cute',\n  'peice',\n  'hair',\n  'hella',\n  'short',\n  '128514'],\n ['128149128149128149',\n  'pussy',\n  'ride',\n  'dick',\n  'like',\n  'jamaican',\n  '128167',\n  '127796',\n  '165',\n  '127796',\n  'gt',\n  '128043',\n  '127806',\n  '128043',\n  'amp128043'],\n ['128165128162', 'pussy', 'httptcomwxqnjm4so'],\n ['128175', 'loyal', 'pussy', ''],\n ['128175', 'bitch', '128079128523'],\n ['128347',\n  'important',\n  'thing',\n  'temporary',\n  'bullshit',\n  'lies',\n  'fa',\n  'birds',\n  'kill',\n  ''],\n ['128514', '8220', 'racist', 'month', 'fuck', 'u', 'honkey8221'],\n ['128514',\n  'gucci',\n  'b',\n  'rude',\n  'shit8220',\n  'lol',\n  'thats',\n  'nice',\n  'bitch',\n  'aint',\n  'worth',\n  'quarter',\n  '8221'],\n ['128514',\n  'mimi',\n  'old',\n  'covering',\n  'titties',\n  'sex128514128514128514',\n  'bitch',\n  'childish'],\n ['128514',\n  'lmfao',\n  'watching',\n  'porn',\n  'amp',\n  'beating',\n  'amp',\n  'yo',\n  'homie',\n  'text',\n  'u',\n  'amp',\n  'show',\n  'name',\n  'banner',\n  'youre',\n  'faggot'],\n ['128514', 'bruh', 'hoes', 'gotta', 'stupid'],\n ['128514128514',\n  '8220',\n  'somebody',\n  'gonna',\n  'die',\n  '128557128557128557',\n  '128514',\n  'theres',\n  'bitch',\n  'njt',\n  'setting',\n  'lean',\n  'tweet8221'],\n ['128514128514',\n  '8220',\n  '8220',\n  '8220',\n  'yall',\n  'boring',\n  'sex8221',\n  'nope',\n  'lick',\n  'side',\n  'bitch',\n  'face',\n  'im',\n  'hittin',\n  'back82218221'],\n ['128514128514',\n  '8220',\n  'course',\n  'cooders',\n  'nudes',\n  'trash',\n  'lives',\n  'dmv',\n  'expect',\n  '1285141285141285148221'],\n ['128514128514',\n  'stomach',\n  'pain',\n  'like',\n  'mufucka',\n  'nigga',\n  'thats',\n  'rating',\n  'bitches',\n  '310',\n  'httptcoyflfubj2po'],\n ['128514128514', 'bitches', 'get', 'stuff', 'done', 'httptcogvfpk65ah5'],\n ['128514128514', 'fucc', 'nicca', 'yu', 'pose', 'pullin'],\n ['128514128514',\n  'maaaaannnn',\n  'hope',\n  'get',\n  'rid',\n  'john',\n  'legend',\n  'looking',\n  'charlie',\n  'batch'],\n ['128514128514', 'mike', 'calls', 'tbird', ''],\n ['128514128514',\n  'niggas',\n  'sending',\n  'screenshots',\n  'bitches',\n  'like',\n  'stop',\n  'texting',\n  'cuh',\n  '128557'],\n ['128514128514',\n  'white',\n  'bitch',\n  'think',\n  'miley',\n  'cyrus',\n  '128557128557',\n  'httptcolffy5hvcna'],\n ['128514128514128514',\n  '8220',\n  'seen',\n  'thot',\n  'ass',\n  'bitch',\n  'high',\n  'top',\n  'whites8221'],\n ['128514128514128514', 'nicca', 'gotta', 'team', 'full', 'worsum', 'hoes'],\n ['128514128514128514',\n  '8220',\n  'hoe',\n  'dmd',\n  'sayin',\n  'never',\n  'give',\n  'dreamsfuckin',\n  'fortune',\n  'cookie',\n  'ass',\n  'hoe',\n  'fuck',\n  'dms8221'],\n ['128514128514128514', 'dyke', 'get', 'pregnant', 'mistake', 'gtgtgtgtgt'],\n ['128514128514128514',\n  'bitch',\n  'know',\n  'got',\n  'games',\n  'phone',\n  'httptcoi2hyinfidw'],\n ['128514128514128514', 'bitch', 'lrt'],\n ['128514128514128514', 'burnt', 'pussy', 'lips'],\n ['128514128514128514',\n  'said',\n  'tl',\n  'gotta',\n  'chill',\n  'pretty',\n  'face',\n  'challenge',\n  'foolishness',\n  'yall',\n  'hoes',\n  'agg'],\n ['128514128514128514',\n  'nah',\n  'round',\n  'molly',\n  '8220',\n  'bitches',\n  'nigga',\n  'mollies8221'],\n ['128514128514128514',\n  'played',\n  'nigga',\n  'smh',\n  '8220',\n  'bitches',\n  'shady',\n  'oh',\n  'god',\n  '128514128514',\n  'httptco1vhc9lqskg8221'],\n ['128514128514128514128514',\n  '128128128128',\n  '8220',\n  'bitch',\n  'go',\n  'away',\n  '9995',\n  'tu',\n  'puta',\n  'madre',\n  ''],\n ['128514128514128514128514', 'bitch', 'mad', 'af', 'httpstco9c4i4w7q7d'],\n ['128514128514128514128514',\n  'hate',\n  'cyrus',\n  'ho',\n  'rookie',\n  'slut',\n  'getting',\n  'cash',\n  'date',\n  'nope',\n  'nope',\n  'nope'],\n ['128514128514128514128514',\n  'youre',\n  'trying',\n  'relax',\n  'pussy',\n  'shooting',\n  'light',\n  'beams',\n  'httptco5ehbmr8tko'],\n ['128514128514128514128514',\n  'murda',\n  'sucking',\n  'bitches',\n  '128514128514128514128514',\n  'howdhow'],\n ['128514128514128514128514',\n  'bitch',\n  'youre',\n  'hobbit',\n  'need',\n  'let',\n  'know',\n  'right',\n  '128514128514128514128514128079128079128079'],\n ['128514128514128514128514', 'folks', 'bad', 'im', 'talk', 'trash'],\n ['128514128514128514128514128514',\n  'brittany',\n  'bitch',\n  'u',\n  'dog',\n  'man',\n  '128514128514128514999665039999665039128553128553128553128553128553128553128569128569128584128584128584128584'],\n ['128514128514128514128514128514128514', 'smh', 'bitch', 'sellin', 'ass'],\n ...]"
     },
     "metadata": {},
     "execution_count": 56
    }
   ],
   "source": [
    "[tweet for tweet in dt_transformed['tweet_wo_RT_username_punct_split_stopwords']]"
   ]
  },
  {
   "cell_type": "code",
   "execution_count": null,
   "metadata": {},
   "outputs": [],
   "source": []
  }
 ],
 "metadata": {
  "language_info": {
   "codemirror_mode": {
    "name": "ipython",
    "version": 3
   },
   "file_extension": ".py",
   "mimetype": "text/x-python",
   "name": "python",
   "nbconvert_exporter": "python",
   "pygments_lexer": "ipython3",
   "version": 3
  },
  "orig_nbformat": 2,
  "kernelspec": {
   "name": "python_defaultSpec_1610739819784",
   "display_name": "Python 3.9.1 64-bit ('.venv': venv)"
  }
 },
 "nbformat": 4,
 "nbformat_minor": 2
}