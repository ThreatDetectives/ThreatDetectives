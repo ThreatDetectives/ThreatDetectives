{
 "cells": [
  {
   "cell_type": "code",
   "execution_count": 6,
   "metadata": {},
   "outputs": [],
   "source": [
    "import nltk\n",
    "import numpy as np\n",
    "import pandas as pd\n",
    "import matplotlib.pyplot as plt\n",
    "from sklearn.feature_extraction.text import CountVectorizer\n",
    "from sklearn.model_selection import train_test_split\n",
    "from sklearn.feature_extraction.text import CountVectorizer\n",
    "from sklearn.linear_model import LogisticRegression"
   ]
  },
  {
   "cell_type": "markdown",
   "metadata": {},
   "source": [
    "### In the `read_csv` function, we have passed a parameter for *encoding*, because our data set contains non-english words that's not supported by the default pandas `read_csv` function. "
   ]
  },
  {
   "cell_type": "code",
   "execution_count": 34,
   "metadata": {},
   "outputs": [
    {
     "output_type": "execute_result",
     "data": {
      "text/plain": "   Unnamed: 0  count  hate_speech  offensive_language  neither  class  \\\n0           0      3            0                   0        3      2   \n1           1      3            0                   3        0      1   \n2           2      3            0                   3        0      1   \n3           3      3            0                   2        1      1   \n4           4      6            0                   6        0      1   \n\n                                               tweet  \n0  !!! RT @mayasolovely: As a woman you shouldn't...  \n1  !!!!! RT @mleew17: boy dats cold...tyga dwn ba...  \n2  !!!!!!! RT @UrKindOfBrand Dawg!!!! RT @80sbaby...  \n3  !!!!!!!!! RT @C_G_Anderson: @viva_based she lo...  \n4  !!!!!!!!!!!!! RT @ShenikaRoberts: The shit you...  ",
      "text/html": "<div>\n<style scoped>\n    .dataframe tbody tr th:only-of-type {\n        vertical-align: middle;\n    }\n\n    .dataframe tbody tr th {\n        vertical-align: top;\n    }\n\n    .dataframe thead th {\n        text-align: right;\n    }\n</style>\n<table border=\"1\" class=\"dataframe\">\n  <thead>\n    <tr style=\"text-align: right;\">\n      <th></th>\n      <th>Unnamed: 0</th>\n      <th>count</th>\n      <th>hate_speech</th>\n      <th>offensive_language</th>\n      <th>neither</th>\n      <th>class</th>\n      <th>tweet</th>\n    </tr>\n  </thead>\n  <tbody>\n    <tr>\n      <th>0</th>\n      <td>0</td>\n      <td>3</td>\n      <td>0</td>\n      <td>0</td>\n      <td>3</td>\n      <td>2</td>\n      <td>!!! RT @mayasolovely: As a woman you shouldn't...</td>\n    </tr>\n    <tr>\n      <th>1</th>\n      <td>1</td>\n      <td>3</td>\n      <td>0</td>\n      <td>3</td>\n      <td>0</td>\n      <td>1</td>\n      <td>!!!!! RT @mleew17: boy dats cold...tyga dwn ba...</td>\n    </tr>\n    <tr>\n      <th>2</th>\n      <td>2</td>\n      <td>3</td>\n      <td>0</td>\n      <td>3</td>\n      <td>0</td>\n      <td>1</td>\n      <td>!!!!!!! RT @UrKindOfBrand Dawg!!!! RT @80sbaby...</td>\n    </tr>\n    <tr>\n      <th>3</th>\n      <td>3</td>\n      <td>3</td>\n      <td>0</td>\n      <td>2</td>\n      <td>1</td>\n      <td>1</td>\n      <td>!!!!!!!!! RT @C_G_Anderson: @viva_based she lo...</td>\n    </tr>\n    <tr>\n      <th>4</th>\n      <td>4</td>\n      <td>6</td>\n      <td>0</td>\n      <td>6</td>\n      <td>0</td>\n      <td>1</td>\n      <td>!!!!!!!!!!!!! RT @ShenikaRoberts: The shit you...</td>\n    </tr>\n  </tbody>\n</table>\n</div>"
     },
     "metadata": {},
     "execution_count": 34
    }
   ],
   "source": [
    "dataset = pd.read_csv('./labeled_data.csv', encoding='ISO-8859-1')\n",
    "dataset.head()\n"
   ]
  },
  {
   "cell_type": "code",
   "execution_count": 8,
   "metadata": {},
   "outputs": [
    {
     "output_type": "stream",
     "name": "stdout",
     "text": "<class 'pandas.core.frame.DataFrame'>\nRangeIndex: 24783 entries, 0 to 24782\nData columns (total 7 columns):\n #   Column              Non-Null Count  Dtype \n---  ------              --------------  ----- \n 0   Unnamed: 0          24783 non-null  int64 \n 1   count               24783 non-null  int64 \n 2   hate_speech         24783 non-null  int64 \n 3   offensive_language  24783 non-null  int64 \n 4   neither             24783 non-null  int64 \n 5   class               24783 non-null  int64 \n 6   tweet               24783 non-null  object\ndtypes: int64(6), object(1)\nmemory usage: 1.3+ MB\n"
    }
   ],
   "source": [
    "dataset.info()"
   ]
  },
  {
   "cell_type": "code",
   "execution_count": 11,
   "metadata": {},
   "outputs": [
    {
     "output_type": "execute_result",
     "data": {
      "text/plain": "                      count          mean          std  min     25%      50%  \\\nUnnamed: 0          24783.0  12681.192027  7299.553863  0.0  6372.5  12703.0   \ncount               24783.0      3.243473     0.883060  3.0     3.0      3.0   \nhate_speech         24783.0      0.280515     0.631851  0.0     0.0      0.0   \noffensive_language  24783.0      2.413711     1.399459  0.0     2.0      3.0   \nneither             24783.0      0.549247     1.113299  0.0     0.0      0.0   \nclass               24783.0      1.110277     0.462089  0.0     1.0      1.0   \n\n                        75%      max  \nUnnamed: 0          18995.5  25296.0  \ncount                   3.0      9.0  \nhate_speech             0.0      7.0  \noffensive_language      3.0      9.0  \nneither                 0.0      9.0  \nclass                   1.0      2.0  ",
      "text/html": "<div>\n<style scoped>\n    .dataframe tbody tr th:only-of-type {\n        vertical-align: middle;\n    }\n\n    .dataframe tbody tr th {\n        vertical-align: top;\n    }\n\n    .dataframe thead th {\n        text-align: right;\n    }\n</style>\n<table border=\"1\" class=\"dataframe\">\n  <thead>\n    <tr style=\"text-align: right;\">\n      <th></th>\n      <th>count</th>\n      <th>mean</th>\n      <th>std</th>\n      <th>min</th>\n      <th>25%</th>\n      <th>50%</th>\n      <th>75%</th>\n      <th>max</th>\n    </tr>\n  </thead>\n  <tbody>\n    <tr>\n      <th>Unnamed: 0</th>\n      <td>24783.0</td>\n      <td>12681.192027</td>\n      <td>7299.553863</td>\n      <td>0.0</td>\n      <td>6372.5</td>\n      <td>12703.0</td>\n      <td>18995.5</td>\n      <td>25296.0</td>\n    </tr>\n    <tr>\n      <th>count</th>\n      <td>24783.0</td>\n      <td>3.243473</td>\n      <td>0.883060</td>\n      <td>3.0</td>\n      <td>3.0</td>\n      <td>3.0</td>\n      <td>3.0</td>\n      <td>9.0</td>\n    </tr>\n    <tr>\n      <th>hate_speech</th>\n      <td>24783.0</td>\n      <td>0.280515</td>\n      <td>0.631851</td>\n      <td>0.0</td>\n      <td>0.0</td>\n      <td>0.0</td>\n      <td>0.0</td>\n      <td>7.0</td>\n    </tr>\n    <tr>\n      <th>offensive_language</th>\n      <td>24783.0</td>\n      <td>2.413711</td>\n      <td>1.399459</td>\n      <td>0.0</td>\n      <td>2.0</td>\n      <td>3.0</td>\n      <td>3.0</td>\n      <td>9.0</td>\n    </tr>\n    <tr>\n      <th>neither</th>\n      <td>24783.0</td>\n      <td>0.549247</td>\n      <td>1.113299</td>\n      <td>0.0</td>\n      <td>0.0</td>\n      <td>0.0</td>\n      <td>0.0</td>\n      <td>9.0</td>\n    </tr>\n    <tr>\n      <th>class</th>\n      <td>24783.0</td>\n      <td>1.110277</td>\n      <td>0.462089</td>\n      <td>0.0</td>\n      <td>1.0</td>\n      <td>1.0</td>\n      <td>1.0</td>\n      <td>2.0</td>\n    </tr>\n  </tbody>\n</table>\n</div>"
     },
     "metadata": {},
     "execution_count": 11
    }
   ],
   "source": [
    "dataset.describe().T"
   ]
  },
  {
   "cell_type": "code",
   "execution_count": 37,
   "metadata": {},
   "outputs": [
    {
     "output_type": "execute_result",
     "data": {
      "text/plain": "   class                                              tweet\n0      2  !!! RT @mayasolovely: As a woman you shouldn't...\n1      1  !!!!! RT @mleew17: boy dats cold...tyga dwn ba...\n2      1  !!!!!!! RT @UrKindOfBrand Dawg!!!! RT @80sbaby...\n3      1  !!!!!!!!! RT @C_G_Anderson: @viva_based she lo...\n4      1  !!!!!!!!!!!!! RT @ShenikaRoberts: The shit you...",
      "text/html": "<div>\n<style scoped>\n    .dataframe tbody tr th:only-of-type {\n        vertical-align: middle;\n    }\n\n    .dataframe tbody tr th {\n        vertical-align: top;\n    }\n\n    .dataframe thead th {\n        text-align: right;\n    }\n</style>\n<table border=\"1\" class=\"dataframe\">\n  <thead>\n    <tr style=\"text-align: right;\">\n      <th></th>\n      <th>class</th>\n      <th>tweet</th>\n    </tr>\n  </thead>\n  <tbody>\n    <tr>\n      <th>0</th>\n      <td>2</td>\n      <td>!!! RT @mayasolovely: As a woman you shouldn't...</td>\n    </tr>\n    <tr>\n      <th>1</th>\n      <td>1</td>\n      <td>!!!!! RT @mleew17: boy dats cold...tyga dwn ba...</td>\n    </tr>\n    <tr>\n      <th>2</th>\n      <td>1</td>\n      <td>!!!!!!! RT @UrKindOfBrand Dawg!!!! RT @80sbaby...</td>\n    </tr>\n    <tr>\n      <th>3</th>\n      <td>1</td>\n      <td>!!!!!!!!! RT @C_G_Anderson: @viva_based she lo...</td>\n    </tr>\n    <tr>\n      <th>4</th>\n      <td>1</td>\n      <td>!!!!!!!!!!!!! RT @ShenikaRoberts: The shit you...</td>\n    </tr>\n  </tbody>\n</table>\n</div>"
     },
     "metadata": {},
     "execution_count": 37
    }
   ],
   "source": [
    "dt_transformed = dataset[['class', 'tweet']]\n",
    "dt_transformed.head()"
   ]
  },
  {
   "cell_type": "code",
   "execution_count": 47,
   "metadata": {},
   "outputs": [],
   "source": [
    "# Clean the data\n",
    "\n",
    "import re\n"
   ]
  },
  {
   "cell_type": "code",
   "execution_count": 45,
   "metadata": {},
   "outputs": [
    {
     "output_type": "execute_result",
     "data": {
      "text/plain": "{'rt': 423,\n 'mayasolovely': 328,\n 'as': 53,\n 'woman': 566,\n 'you': 586,\n 'shouldn': 443,\n 'complain': 146,\n 'about': 26,\n 'cleaning': 140,\n 'up': 533,\n 'your': 588,\n 'house': 270,\n 'amp': 43,\n 'man': 325,\n 'should': 442,\n 'always': 41,\n 'take': 480,\n 'the': 497,\n 'trash': 522,\n 'out': 381,\n 'mleew17': 337,\n 'boy': 97,\n 'dats': 169,\n 'cold': 143,\n 'tyga': 530,\n 'dwn': 189,\n 'bad': 64,\n 'for': 215,\n 'cuffin': 156,\n 'dat': 167,\n 'hoe': 265,\n 'in': 280,\n '1st': 9,\n 'place': 391,\n 'urkindofbrand': 535,\n 'dawg': 170,\n '80sbaby4life': 18,\n 'ever': 199,\n 'fuck': 219,\n 'bitch': 82,\n 'and': 44,\n 'she': 438,\n 'start': 469,\n 'to': 513,\n 'cry': 154,\n 'be': 69,\n 'confused': 148,\n 'shit': 440,\n 'c_g_anderson': 113,\n 'viva_based': 542,\n 'look': 313,\n 'like': 306,\n 'tranny': 521,\n 'shenikaroberts': 439,\n 'hear': 252,\n 'me': 330,\n 'might': 334,\n 'true': 524,\n 'or': 377,\n 'it': 285,\n 'faker': 209,\n 'than': 491,\n 'who': 562,\n 'told': 516,\n 'ya': 577,\n '57361': 16,\n 't_madison_x': 478,\n 'just': 292,\n 'blows': 90,\n 'claim': 138,\n 'so': 461,\n 'faithful': 208,\n 'down': 185,\n 'somebody': 464,\n 'but': 108,\n 'still': 471,\n 'fucking': 221,\n 'with': 565,\n 'hoes': 266,\n '128514': 2,\n '__brighterdays': 23,\n 'can': 116,\n 'not': 366,\n 'sit': 454,\n 'hate': 247,\n 'on': 374,\n 'another': 46,\n 'got': 239,\n 'too': 518,\n 'much': 345,\n 'going': 236,\n '8220': 20,\n 'selfiequeenbri': 433,\n 'cause': 125,\n 'tired': 512,\n 'of': 370,\n 'big': 78,\n 'bitches': 83,\n 'coming': 145,\n 'us': 536,\n 'skinny': 456,\n 'girls': 233,\n '8221': 21,\n 'get': 230,\n 'back': 63,\n 'thats': 496,\n 'that': 494,\n 'rhythmixx_': 417,\n 'hobbies': 264,\n 'include': 281,\n 'fighting': 212,\n 'mariam': 327,\n 'keeks': 294,\n 'is': 284,\n 'curves': 159,\n 'everyone': 202,\n 'lol': 312,\n 'walked': 546,\n 'into': 283,\n 'conversation': 149,\n 'this': 507,\n 'smh': 458,\n 'murda': 346,\n 'gang': 226,\n 'its': 286,\n 'land': 302,\n 'smoke': 459,\n 'are': 50,\n 'losers': 316,\n 'yea': 579,\n 'go': 234,\n 'ig': 277,\n 'only': 376,\n 'thing': 505,\n 'off': 371,\n 'nigga': 359,\n 'miss': 336,\n 'plz': 393,\n 'whatever': 558,\n 'do': 175,\n 'love': 318,\n 'cut': 160,\n 'everyday': 201,\n 'black': 86,\n 'bottle': 94,\n 'broke': 101,\n 'cant': 119,\n 'tell': 489,\n 'nothing': 367,\n 'cancel': 117,\n 'nino': 363,\n 'see': 431,\n 'these': 502,\n 'wont': 567,\n 'change': 134,\n 'no': 365,\n 'dont': 183,\n 'even': 198,\n 'suck': 475,\n 'dick': 172,\n 'kermit': 295,\n 'videos': 541,\n 'bout': 96,\n 'tip': 511,\n 'toeing': 514,\n 'my': 351,\n 'hardwood': 246,\n 'floors': 213,\n 'http': 273,\n 'co': 142,\n 'cou2wq5l4q': 150,\n 'her': 258,\n 'pussy': 402,\n 'lips': 309,\n 'heaven': 253,\n 'doors': 184,\n '128524': 4,\n 'what': 557,\n 'hitting': 263,\n 'met': 332,\n 'ocean': 369,\n 'dr': 186,\n 'gave': 227,\n 'pill': 388,\n 'need': 353,\n 'trippy': 523,\n 'hennessy': 257,\n 'spend': 468,\n 'money': 340,\n 'how': 271,\n 'want': 548,\n 'business': 107,\n 'txt': 529,\n 'old': 373,\n 'new': 356,\n 'wetter': 555,\n 'say': 427,\n 'im': 278,\n 'would': 573,\n 'excited': 203,\n 'if': 276,\n 'aint': 35,\n 'murder': 347,\n 'game': 225,\n 'shut': 447,\n 're': 410,\n 'toes': 515,\n 'ain': 34,\n 'done': 182,\n 'stinks': 472,\n 'bitter': 85,\n 'wrap': 576,\n 'angry': 45,\n 'bird': 80,\n 'theres': 501,\n 'app': 49,\n 'jus': 291,\n 'meet': 331,\n 'son': 465,\n 'now': 368,\n 'he': 250,\n 'mane': 326,\n 'ass': 55,\n 'shots': 441,\n 'lames': 301,\n 'crying': 155,\n 'over': 382,\n 'tears': 488,\n 'clown': 141,\n 'snoop': 460,\n 'said': 426,\n '94': 22,\n 'we': 553,\n 'momma': 339,\n 'cats': 124,\n 'inside': 282,\n 'doghouse': 180,\n 'most': 343,\n 'hated': 248,\n 'favorite': 210,\n '2mw': 13,\n 'sevenone': 436,\n 'bmdsvmc3rc': 91,\n 'nice': 357,\n 'make': 322,\n 'naughty': 352,\n 'yello': 582,\n 'real': 412,\n 'body': 92,\n 'south': 467,\n 'chick': 135,\n 'em': 196,\n 'thick': 504,\n 'bzrdl3kf7u': 112,\n 'pimps': 389,\n 'future': 224,\n 'voice': 543,\n 'post': 394,\n 'picture': 385,\n '200': 10,\n 'likes': 307,\n 'powerful': 396,\n 'drug': 188,\n '128517': 3,\n 'happyhumpday': 245,\n 'r8jsymib5b': 407,\n 'quick': 405,\n 'piece': 386,\n 'call': 115,\n 'drive': 187,\n 'by': 111,\n 'running': 424,\n 'round': 422,\n 'here': 259,\n 'some': 463,\n 'brand': 98,\n 'fucked': 220,\n 'worst': 572,\n 'they': 503,\n 'll': 310,\n 'send': 434,\n 'them': 499,\n 'guys': 242,\n 'niggas': 361,\n 'talk': 481,\n 'trust': 526,\n 'all': 36,\n 'yall': 578,\n 'cuffing': 157,\n 'never': 355,\n 'have': 249,\n 'dodge': 176,\n 'bullet': 106,\n 'darealkha': 166,\n 'da': 163,\n 'pregnant': 398,\n 'bound': 95,\n 'thank': 492,\n 'god': 235,\n '128591': 7,\n 'young': 587,\n 'chamberlain': 131,\n 'music': 348,\n 'vandalsavage_': 538,\n 'teanna': 487,\n 'trump': 525,\n 'probably': 399,\n 'cleaner': 139,\n 'twitter': 528,\n 'dahomiefuzz': 164,\n 'gay': 228,\n 'couldn': 152,\n 'wait': 545,\n 'act': 27,\n 'tonight': 517,\n 'the_paradox': 498,\n 'ima': 279,\n 'steal': 470,\n 'his': 262,\n 'cat': 123,\n 'replace': 414,\n 'pitbull': 390,\n 'gone': 237,\n 'took': 519,\n 'tic': 509,\n 'tacs': 479,\n 'movie': 344,\n 'wanna': 547,\n 'model': 338,\n 'russell': 425,\n 'simmons': 451,\n '2015seniorprobs': 11,\n 'wouldn': 574,\n '8217': 19,\n 'mind': 335,\n 'school': 429,\n 'didn': 173,\n 'deal': 171,\n 'teachers': 486,\n 'retweet': 416,\n 'a7xdemery': 25,\n 'fag': 205,\n 'arizzleindacut': 52,\n 'females': 211,\n 'think': 506,\n 'dating': 168,\n 'cute': 161,\n 'vxbjg26gsz': 544,\n 'does': 178,\n 'doing': 181,\n 'stuff': 474,\n 'him': 261,\n 'addicted2guys': 28,\n 'simplyaddictedtoguys': 452,\n '1jl4hi8zmf': 8,\n 'woof': 569,\n 'hot': 269,\n 'scally': 428,\n 'lad': 300,\n 'adorebellaaa': 30,\n 'asked': 54,\n 'other': 380,\n 'kanye': 293,\n 'yes': 583,\n 'adorezoey': 31,\n 'bring': 99,\n 'ur': 534,\n 'side': 449,\n 'where': 560,\n 'know': 299,\n 'gf': 231,\n 'friends': 218,\n 'at': 56,\n '128553': 5,\n 'swear': 477,\n 'allaboutmanfeet': 37,\n '3gzupfumev': 15,\n 'soles': 462,\n 'allyhaaaaa': 38,\n 'lemmie': 304,\n 'eat': 193,\n 'oreo': 378,\n 'dishes': 174,\n 'one': 375,\n 'almightywayne__': 39,\n 'jetsandaswisher': 289,\n 'gook____': 238,\n 'pxmga68nc1': 403,\n 'maybe': 329,\n 'better': 77,\n 'tprevwfq0s': 520,\n 'red': 413,\n 'malone': 324,\n 'niggah': 360,\n 'could': 151,\n 'please': 392,\n 'use': 537,\n 'complete': 147,\n 'sentences': 435,\n 'arizonasfinest6': 51,\n 'why': 563,\n 'eggplant': 195,\n 'emoji': 197,\n 'doe': 177,\n 'looked': 314,\n 'scream': 430,\n 'lmao': 311,\n 'autoworid': 58,\n 'hennessey': 256,\n 'venom': 540,\n 'gt': 241,\n '128584': 6,\n 'i8egmnkaj9': 275,\n 'sexy': 437,\n 'bossbytchh': 93,\n 'seh': 432,\n 'then': 500,\n 'shower': 445,\n 'curtain': 158,\n 'ahmesehwetness': 33,\n 'lt': 319,\n 'bro_hen314': 100,\n 'eaglesnation': 191,\n 'every': 200,\n 'eagles': 190,\n 'pic': 384,\n 'posted': 395,\n 'because': 71,\n 'racist': 408,\n 'bvsedchink': 110,\n 'yo': 585,\n 'skateboarding': 455,\n 'wood': 568,\n 'pushing': 401,\n 'faggots': 207,\n 'ball': 66,\n 'life': 305,\n 'vbczp6hmt7': 539,\n 'amjemiebenn': 42,\n 'babyanimalpics': 62,\n 'baby': 61,\n 'monkey': 341,\n 'bathtime': 67,\n '7kpwadlf0r': 17,\n 'awwwwe': 59,\n 'soooo': 466,\n 'adorable': 29,\n 'baylaagottabody': 68,\n 'damn': 165,\n 'skippy': 457,\n 'beeasyjrizzy': 72,\n 'kill': 298,\n 'ant': 47,\n 'sidewalk': 450,\n 'was': 550,\n 'way': 552,\n 'bs': 105,\n 'must': 349,\n '30': 14,\n 'chance': 132,\n 'beenbasedb': 74,\n '_kudabrazyy': 24,\n 'luubgl9y5u': 321,\n 'rings': 419,\n 'mvps': 350,\n 'beenflynsolo': 75,\n 'ppl': 397,\n 'ghetto': 232,\n 'hood': 268,\n 'kid': 296,\n 'growing': 240,\n 'had': 243,\n 'funnnnnnn': 222,\n 'bestproadvice': 76,\n 'facts': 204,\n 'tattoos': 484,\n 'tattoo': 482,\n 'zwnbhpdz8e': 589,\n 'tattooing': 483,\n 'nipples': 364,\n 'bill215_': 79,\n '128175': 1,\n 'nel_ayden': 354,\n 'wanting': 549,\n 'cuteeeee': 162,\n 'bitchjones92': 84,\n 'worshiping': 571,\n 'r37cejcjou': 406,\n 'blackchiquitita': 87,\n 'wow': 575,\n 'thatmanpalmer': 495,\n 'lost': 317,\n 'those': 508,\n 'buttcheek': 109,\n 'piercings': 387,\n 'yn6guyouq6': 584,\n 'yeah': 580,\n 'blacknerdjade': 89,\n 'ok': 372,\n 'sis': 453,\n 'rather': 409,\n 'shrugs': 446,\n 'works': 570,\n 'blackman38tide': 88,\n 'whalelookyhere': 556,\n 'howdydowdy11': 272,\n 'queer': 404,\n 'gaywad': 229,\n 'brokenpiecesmsc': 102,\n 'itsnotadam': 287,\n 'faggot': 206,\n 'read': 411,\n 'tweets': 527,\n 'after': 32,\n 'wasn': 551,\n 'funny': 223,\n 'brosconfessions': 103,\n 'ungrateful': 532,\n '06e77bgwbx': 0,\n 'fr': 216,\n 'lulwhore': 320,\n 'cashandboobies': 122,\n 'been': 73,\n 'kidnapped': 297,\n 'cb_baby24': 127,\n 'white_thunduh': 561,\n 'alsarabsss': 40,\n 'hes': 260,\n 'beaner': 70,\n 'mexican': 333,\n 'ccobey': 128,\n 'aydanmccoy': 60,\n 'happy': 244,\n 'birthday': 81,\n 'nigs': 362,\n 'thanks': 493,\n 'chlldhoodruiner': 137,\n 'when': 559,\n 'teacher': 485,\n 'tells': 490,\n 'homework': 267,\n 'https': 274,\n 'rkk5vawij1': 421,\n 'caelang15': 114,\n '22edham': 12,\n 'eating': 194,\n 'hell': 254,\n 'john': 290,\n 'paul': 383,\n 'osipbkpr9h': 379,\n 'canifuckornah': 118,\n 'lil': 308,\n 'ugly': 531,\n 'bald': 65,\n 'headed': 251,\n 'stop': 473,\n 'making': 323,\n 'weave': 554,\n 'carelessone92': 121,\n 'leafs': 303,\n 'win': 564,\n 'riot': 420,\n 'earlychristmas': 192,\n 'looting': 315,\n 'nig': 358,\n 'causewereguys': 126,\n 'sucks': 476,\n 'more': 342,\n 'attend': 57,\n 'j906t5ze2r': 288,\n 'year': 581,\n 'celeynichole': 129,\n 'come': 144,\n 'food': 214,\n 'car': 120,\n 'retard': 415,\n 'chadmfverbeck': 130,\n 'richnow': 418,\n 'doesn': 179,\n 'show': 444,\n 'hella': 255,\n 'tinder': 510,\n 'friend': 217,\n 'anymore': 48,\n 'chill': 136,\n 'brought': 104,\n 'prople': 400,\n 'chandlerparsons': 133,\n 'cowboys': 153,\n 'shutup': 448}"
     },
     "metadata": {},
     "execution_count": 45
    }
   ],
   "source": [
    "\n",
    "# Bag of Words\n",
    "\n",
    "tweets = dt_transformed[['tweet']]\n",
    "tweet_list = [tweet for tweet in dt_transformed['tweet']]\n",
    "\n",
    "vectorizer = CountVectorizer()\n",
    "vectorizer.fit(tweet_list[:100])\n",
    "vectorizer.vocabulary_"
   ]
  },
  {
   "cell_type": "code",
   "execution_count": 24,
   "metadata": {},
   "outputs": [
    {
     "output_type": "execute_result",
     "data": {
      "text/plain": "pandas.core.frame.DataFrame"
     },
     "metadata": {},
     "execution_count": 24
    }
   ],
   "source": [
    "tweets = dt_transformed[['tweet']]\n",
    "type(tweets)"
   ]
  },
  {
   "cell_type": "code",
   "execution_count": 31,
   "metadata": {},
   "outputs": [
    {
     "output_type": "execute_result",
     "data": {
      "text/plain": "list"
     },
     "metadata": {},
     "execution_count": 31
    }
   ],
   "source": [
    "[tweet for tweet in dt_transformed['tweet']]"
   ]
  },
  {
   "cell_type": "code",
   "execution_count": null,
   "metadata": {},
   "outputs": [],
   "source": []
  }
 ],
 "metadata": {
  "language_info": {
   "codemirror_mode": {
    "name": "ipython",
    "version": 3
   },
   "file_extension": ".py",
   "mimetype": "text/x-python",
   "name": "python",
   "nbconvert_exporter": "python",
   "pygments_lexer": "ipython3",
   "version": 3
  },
  "orig_nbformat": 2,
  "kernelspec": {
   "name": "python_defaultSpec_1610739819784",
   "display_name": "Python 3.9.1 64-bit ('.venv': venv)"
  }
 },
 "nbformat": 4,
 "nbformat_minor": 2
}